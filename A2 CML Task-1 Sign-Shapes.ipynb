{
 "cells": [
  {
   "cell_type": "markdown",
   "metadata": {},
   "source": [
    "Rafeed Sultaan (s3763175)\n",
    "# Computational Machine Learning Assignment-2\n",
    "## TASK-1: Detecting Traffic Sign-Shapes"
   ]
  },
  {
   "cell_type": "markdown",
   "metadata": {},
   "source": [
    "## Loading the Libraries"
   ]
  },
  {
   "cell_type": "code",
   "execution_count": 1,
   "metadata": {},
   "outputs": [
    {
     "name": "stdout",
     "output_type": "stream",
     "text": [
      "WARNING:tensorflow:From /home/ec2-user/anaconda3/envs/tensorflow_p36/lib/python3.6/site-packages/tensorflow_core/__init__.py:1467: The name tf.estimator.inputs is deprecated. Please use tf.compat.v1.estimator.inputs instead.\n",
      "\n"
     ]
    }
   ],
   "source": [
    "import warnings\n",
    "warnings.filterwarnings('ignore')\n",
    "import tensorflow as tf\n",
    "AUTOTUNE = tf.data.experimental.AUTOTUNE\n",
    "import IPython.display as display\n",
    "import numpy as np\n",
    "import matplotlib.pyplot as plt\n",
    "import os\n",
    "import zipfile\n",
    "import pandas as pd\n",
    "from sklearn.utils import shuffle\n",
    "from sklearn.model_selection import train_test_split\n",
    "from tensorflow.keras.models import Sequential, Model\n",
    "\n",
    "from tensorflow.keras.preprocessing.image import ImageDataGenerator\n",
    "from tensorflow.keras.callbacks import EarlyStopping\n",
    "from sklearn.metrics import confusion_matrix,classification_report\n",
    "\n",
    "from tensorflow import keras\n",
    "from tensorflow.keras import layers\n",
    "\n",
    "from tensorflow.keras.layers import Conv2D, MaxPooling2D, Lambda, Input\n",
    "from tensorflow.keras.layers import Activation, Dropout, Flatten, Dense\n",
    "from tensorflow.keras.metrics import categorical_accuracy\n",
    "from tensorflow.keras import regularizers, optimizers\n",
    "from PIL import Image\n",
    "import glob"
   ]
  },
  {
   "cell_type": "markdown",
   "metadata": {},
   "source": [
    "## Loading the Traffic Sign Dataset\n",
    "\n",
    "#### Extracting the Traffic Signs Dataset"
   ]
  },
  {
   "cell_type": "code",
   "execution_count": 2,
   "metadata": {},
   "outputs": [],
   "source": [
    "with zipfile.ZipFile('./trafficsigns_dataset-1.zip', 'r') as zip_ref:\n",
    "    zip_ref.extractall('./')"
   ]
  },
  {
   "cell_type": "markdown",
   "metadata": {},
   "source": [
    "#### Loading the Dataset into dataframe"
   ]
  },
  {
   "cell_type": "code",
   "execution_count": 3,
   "metadata": {},
   "outputs": [],
   "source": [
    "\n",
    "\n",
    "image_list = []\n",
    "for filepath in glob.glob('trafficsigns_dataset/*/*/*.png', recursive=True):\n",
    "   \n",
    "    filename = filepath.split(\"/\")[-1]\n",
    "    label = filepath.split(\"/\")[1]\n",
    "    image_list.append((filepath, label))\n",
    "                      \n",
    "# Create a data frame\n",
    "dataframe = pd.DataFrame(data=image_list, columns=['image_path','label'])"
   ]
  },
  {
   "cell_type": "markdown",
   "metadata": {},
   "source": [
    "#### Checking DataFrame dataframe"
   ]
  },
  {
   "cell_type": "code",
   "execution_count": 4,
   "metadata": {},
   "outputs": [
    {
     "data": {
      "text/html": [
       "<div>\n",
       "<style scoped>\n",
       "    .dataframe tbody tr th:only-of-type {\n",
       "        vertical-align: middle;\n",
       "    }\n",
       "\n",
       "    .dataframe tbody tr th {\n",
       "        vertical-align: top;\n",
       "    }\n",
       "\n",
       "    .dataframe thead th {\n",
       "        text-align: right;\n",
       "    }\n",
       "</style>\n",
       "<table border=\"1\" class=\"dataframe\">\n",
       "  <thead>\n",
       "    <tr style=\"text-align: right;\">\n",
       "      <th></th>\n",
       "      <th>image_path</th>\n",
       "      <th>label</th>\n",
       "    </tr>\n",
       "  </thead>\n",
       "  <tbody>\n",
       "    <tr>\n",
       "      <th>0</th>\n",
       "      <td>trafficsigns_dataset/triangle/warning/01085_00...</td>\n",
       "      <td>triangle</td>\n",
       "    </tr>\n",
       "    <tr>\n",
       "      <th>1</th>\n",
       "      <td>trafficsigns_dataset/triangle/warning/01423_00...</td>\n",
       "      <td>triangle</td>\n",
       "    </tr>\n",
       "    <tr>\n",
       "      <th>2</th>\n",
       "      <td>trafficsigns_dataset/triangle/warning/00947_00...</td>\n",
       "      <td>triangle</td>\n",
       "    </tr>\n",
       "    <tr>\n",
       "      <th>3</th>\n",
       "      <td>trafficsigns_dataset/triangle/warning/00869_00...</td>\n",
       "      <td>triangle</td>\n",
       "    </tr>\n",
       "    <tr>\n",
       "      <th>4</th>\n",
       "      <td>trafficsigns_dataset/triangle/warning/00454_00...</td>\n",
       "      <td>triangle</td>\n",
       "    </tr>\n",
       "  </tbody>\n",
       "</table>\n",
       "</div>"
      ],
      "text/plain": [
       "                                          image_path     label\n",
       "0  trafficsigns_dataset/triangle/warning/01085_00...  triangle\n",
       "1  trafficsigns_dataset/triangle/warning/01423_00...  triangle\n",
       "2  trafficsigns_dataset/triangle/warning/00947_00...  triangle\n",
       "3  trafficsigns_dataset/triangle/warning/00869_00...  triangle\n",
       "4  trafficsigns_dataset/triangle/warning/00454_00...  triangle"
      ]
     },
     "execution_count": 4,
     "metadata": {},
     "output_type": "execute_result"
    }
   ],
   "source": [
    "dataframe.head()"
   ]
  },
  {
   "cell_type": "markdown",
   "metadata": {},
   "source": [
    "## Total number of images in each shape label"
   ]
  },
  {
   "cell_type": "code",
   "execution_count": 5,
   "metadata": {},
   "outputs": [
    {
     "name": "stdout",
     "output_type": "stream",
     "text": [
      "Number of diamond shaped signs  282\n",
      "Number of hex signs   43\n",
      "Number of round shaped signs  1760\n",
      "Number of square shaped signs   688\n",
      "Number of triangle shaped signs  926\n"
     ]
    }
   ],
   "source": [
    "print (\"Number of diamond shaped signs \" , len(dataframe[dataframe['label']=='diamond']))\n",
    "print (\"Number of hex signs  \" , len(dataframe[dataframe['label']=='hex']))\n",
    "print (\"Number of round shaped signs \" , len(dataframe[dataframe['label']=='round']))\n",
    "print (\"Number of square shaped signs  \",len(dataframe[dataframe['label']=='square']))\n",
    "print (\"Number of triangle shaped signs \", len(dataframe[dataframe['label']=='triangle']))"
   ]
  },
  {
   "cell_type": "markdown",
   "metadata": {},
   "source": [
    "## Shuffling the dataframe and checking the dataframe contents"
   ]
  },
  {
   "cell_type": "code",
   "execution_count": 6,
   "metadata": {},
   "outputs": [
    {
     "data": {
      "text/html": [
       "<div>\n",
       "<style scoped>\n",
       "    .dataframe tbody tr th:only-of-type {\n",
       "        vertical-align: middle;\n",
       "    }\n",
       "\n",
       "    .dataframe tbody tr th {\n",
       "        vertical-align: top;\n",
       "    }\n",
       "\n",
       "    .dataframe thead th {\n",
       "        text-align: right;\n",
       "    }\n",
       "</style>\n",
       "<table border=\"1\" class=\"dataframe\">\n",
       "  <thead>\n",
       "    <tr style=\"text-align: right;\">\n",
       "      <th></th>\n",
       "      <th>image_path</th>\n",
       "      <th>label</th>\n",
       "    </tr>\n",
       "  </thead>\n",
       "  <tbody>\n",
       "    <tr>\n",
       "      <th>138</th>\n",
       "      <td>trafficsigns_dataset/triangle/warning/01782_00...</td>\n",
       "      <td>triangle</td>\n",
       "    </tr>\n",
       "    <tr>\n",
       "      <th>2437</th>\n",
       "      <td>trafficsigns_dataset/round/bicycle/01960_00000...</td>\n",
       "      <td>round</td>\n",
       "    </tr>\n",
       "    <tr>\n",
       "      <th>1802</th>\n",
       "      <td>trafficsigns_dataset/round/noentry/01268_00002...</td>\n",
       "      <td>round</td>\n",
       "    </tr>\n",
       "    <tr>\n",
       "      <th>2925</th>\n",
       "      <td>trafficsigns_dataset/diamond/rightofway/01262_...</td>\n",
       "      <td>diamond</td>\n",
       "    </tr>\n",
       "    <tr>\n",
       "      <th>149</th>\n",
       "      <td>trafficsigns_dataset/triangle/warning/01780_00...</td>\n",
       "      <td>triangle</td>\n",
       "    </tr>\n",
       "  </tbody>\n",
       "</table>\n",
       "</div>"
      ],
      "text/plain": [
       "                                             image_path     label\n",
       "138   trafficsigns_dataset/triangle/warning/01782_00...  triangle\n",
       "2437  trafficsigns_dataset/round/bicycle/01960_00000...     round\n",
       "1802  trafficsigns_dataset/round/noentry/01268_00002...     round\n",
       "2925  trafficsigns_dataset/diamond/rightofway/01262_...   diamond\n",
       "149   trafficsigns_dataset/triangle/warning/01780_00...  triangle"
      ]
     },
     "execution_count": 6,
     "metadata": {},
     "output_type": "execute_result"
    }
   ],
   "source": [
    "dataframe = shuffle(dataframe)\n",
    "dataframe.head()"
   ]
  },
  {
   "cell_type": "markdown",
   "metadata": {},
   "source": [
    "## Images Inside the Dataset"
   ]
  },
  {
   "cell_type": "code",
   "execution_count": 7,
   "metadata": {},
   "outputs": [
    {
     "data": {
      "image/png": "[encoded data removed]",
      "text/plain": [
       "<Figure size 864x216 with 3 Axes>"
      ]
     },
     "metadata": {},
     "output_type": "display_data"
    }
   ],
   "source": [
    "random_image_list = dataframe.loc[np.random.choice(3000, 3),'image_path']\n",
    "plt.figure(figsize=(12,3))\n",
    "for i, image_path in enumerate(random_image_list ):\n",
    "    im = np.asarray(Image.open(image_path))\n",
    "    plt.subplot(1,3,i+1)\n",
    "    plt.imshow(im,cmap='gray')\n",
    "    plt.axis('off')  \n",
    "plt.show()"
   ]
  },
  {
   "cell_type": "markdown",
   "metadata": {},
   "source": [
    "# Using Holdout Cross Validation\n",
    "#### Splitting the data into 3 sets of data: train,validation and test sets"
   ]
  },
  {
   "cell_type": "code",
   "execution_count": 8,
   "metadata": {},
   "outputs": [],
   "source": [
    "##Holdout data test_shapes\n",
    "trainset, testset = train_test_split(dataframe, test_size=0.2)\n",
    "trainset, validationset = train_test_split(trainset, test_size=0.2)"
   ]
  },
  {
   "cell_type": "markdown",
   "metadata": {},
   "source": [
    "#### Printing the shapes of train, validation and test sets"
   ]
  },
  {
   "cell_type": "code",
   "execution_count": 9,
   "metadata": {},
   "outputs": [
    {
     "name": "stdout",
     "output_type": "stream",
     "text": [
      "Train Set Shape: (2367, 2)\n",
      "Validation Set Shape: (592, 2)\n",
      "Test Set Shape: (740, 2)\n"
     ]
    }
   ],
   "source": [
    "print(\"Train Set Shape:\",trainset.shape)\n",
    "print(\"Validation Set Shape:\",validationset.shape)\n",
    "print(\"Test Set Shape:\",testset.shape)"
   ]
  },
  {
   "cell_type": "markdown",
   "metadata": {},
   "source": [
    "#### Storing the number of images in train, validation sets"
   ]
  },
  {
   "cell_type": "code",
   "execution_count": 10,
   "metadata": {},
   "outputs": [],
   "source": [
    "N_train_images = trainset.shape[0]\n",
    "N_val_images = validationset.shape[0]"
   ]
  },
  {
   "cell_type": "markdown",
   "metadata": {},
   "source": [
    "## Train , Validation and Test Generator"
   ]
  },
  {
   "cell_type": "code",
   "execution_count": 11,
   "metadata": {},
   "outputs": [
    {
     "name": "stdout",
     "output_type": "stream",
     "text": [
      "Found 2367 validated image filenames belonging to 5 classes.\n",
      "Found 592 validated image filenames belonging to 5 classes.\n",
      "Found 740 validated image filenames belonging to 5 classes.\n"
     ]
    }
   ],
   "source": [
    "train_datagen = ImageDataGenerator(rescale=1./255, data_format='channels_last')\n",
    "val_datagen = ImageDataGenerator(rescale=1./255, data_format='channels_last')\n",
    "test_datagen = ImageDataGenerator(rescale=1./255, data_format='channels_last')\n",
    "\n",
    "batch_size = 32\n",
    "\n",
    "train_generator = train_datagen.flow_from_dataframe(\n",
    "    dataframe=trainset,\n",
    "    directory='./',\n",
    "    x_col=\"image_path\",\n",
    "    y_col=\"label\",\n",
    "    target_size=(28, 28),\n",
    "    batch_size=batch_size,\n",
    "    class_mode='categorical')\n",
    "\n",
    "validation_generator = val_datagen.flow_from_dataframe(\n",
    "    dataframe=validationset,\n",
    "    directory='./',\n",
    "    x_col=\"image_path\",\n",
    "    y_col=\"label\",\n",
    "    target_size=(28, 28),\n",
    "    batch_size=batch_size,\n",
    "    class_mode='categorical')\n",
    "\n",
    "test_generator = test_datagen.flow_from_dataframe(\n",
    "    dataframe=testset,\n",
    "    directory='./',\n",
    "    x_col=\"image_path\",\n",
    "    y_col=\"label\",\n",
    "    target_size=(28, 28),\n",
    "    batch_size=batch_size,\n",
    "    shuffle = False,\n",
    "    class_mode='categorical')"
   ]
  },
  {
   "cell_type": "markdown",
   "metadata": {},
   "source": [
    "## Extracting Indepedent TS Dataset"
   ]
  },
  {
   "cell_type": "code",
   "execution_count": 12,
   "metadata": {},
   "outputs": [],
   "source": [
    "import zipfile\n",
    "with zipfile.ZipFile('./independent_evaluation_TS_images.zip', 'r') as zip_ref:\n",
    "    zip_ref.extractall('./')"
   ]
  },
  {
   "cell_type": "markdown",
   "metadata": {},
   "source": [
    "## Transforming Independent to Grayscale from BGF and Transforming to to 28x28 pixels"
   ]
  },
  {
   "cell_type": "code",
   "execution_count": 13,
   "metadata": {},
   "outputs": [],
   "source": [
    "import cv2\n",
    "for filepath in glob.glob('independent_evaluation_TS_images/*/*/*.png', recursive=True):\n",
    "    img = cv2.imread(filepath)\n",
    "    gray = cv2.cvtColor(img, cv2.COLOR_BGR2GRAY)\n",
    "    img_resized = cv2.resize(gray, (28,28) , interpolation = cv2.INTER_AREA)\n",
    "    img_resized.view\n",
    "    cv2.imwrite(os.path.join(filepath), img_resized)"
   ]
  },
  {
   "cell_type": "markdown",
   "metadata": {},
   "source": [
    "## Loading the Independent Dataset"
   ]
  },
  {
   "cell_type": "code",
   "execution_count": 14,
   "metadata": {},
   "outputs": [],
   "source": [
    "from PIL import Image\n",
    "import glob\n",
    "\n",
    "image_list = []\n",
    "for filepath in glob.glob('independent_evaluation_TS_images/*/*/*.png', recursive=True):\n",
    "    filename = filepath.split(\"/\")[-1]\n",
    "    label = filepath.split(\"/\")[-3]\n",
    "    image_list.append((filepath,label))\n",
    "                      \n",
    "# Create a data frame\n",
    "independentEvaluationData = pd.DataFrame(data=image_list, columns=['image_path','label'])"
   ]
  },
  {
   "cell_type": "markdown",
   "metadata": {},
   "source": [
    "#### Checking Independent Traffic Signs Dataset"
   ]
  },
  {
   "cell_type": "code",
   "execution_count": 15,
   "metadata": {},
   "outputs": [
    {
     "data": {
      "text/html": [
       "<div>\n",
       "<style scoped>\n",
       "    .dataframe tbody tr th:only-of-type {\n",
       "        vertical-align: middle;\n",
       "    }\n",
       "\n",
       "    .dataframe tbody tr th {\n",
       "        vertical-align: top;\n",
       "    }\n",
       "\n",
       "    .dataframe thead th {\n",
       "        text-align: right;\n",
       "    }\n",
       "</style>\n",
       "<table border=\"1\" class=\"dataframe\">\n",
       "  <thead>\n",
       "    <tr style=\"text-align: right;\">\n",
       "      <th></th>\n",
       "      <th>image_path</th>\n",
       "      <th>label</th>\n",
       "    </tr>\n",
       "  </thead>\n",
       "  <tbody>\n",
       "    <tr>\n",
       "      <th>0</th>\n",
       "      <td>independent_evaluation_TS_images/triangle/warn...</td>\n",
       "      <td>triangle</td>\n",
       "    </tr>\n",
       "    <tr>\n",
       "      <th>1</th>\n",
       "      <td>independent_evaluation_TS_images/triangle/warn...</td>\n",
       "      <td>triangle</td>\n",
       "    </tr>\n",
       "    <tr>\n",
       "      <th>2</th>\n",
       "      <td>independent_evaluation_TS_images/triangle/warn...</td>\n",
       "      <td>triangle</td>\n",
       "    </tr>\n",
       "    <tr>\n",
       "      <th>3</th>\n",
       "      <td>independent_evaluation_TS_images/triangle/warn...</td>\n",
       "      <td>triangle</td>\n",
       "    </tr>\n",
       "    <tr>\n",
       "      <th>4</th>\n",
       "      <td>independent_evaluation_TS_images/triangle/warn...</td>\n",
       "      <td>triangle</td>\n",
       "    </tr>\n",
       "  </tbody>\n",
       "</table>\n",
       "</div>"
      ],
      "text/plain": [
       "                                          image_path     label\n",
       "0  independent_evaluation_TS_images/triangle/warn...  triangle\n",
       "1  independent_evaluation_TS_images/triangle/warn...  triangle\n",
       "2  independent_evaluation_TS_images/triangle/warn...  triangle\n",
       "3  independent_evaluation_TS_images/triangle/warn...  triangle\n",
       "4  independent_evaluation_TS_images/triangle/warn...  triangle"
      ]
     },
     "execution_count": 15,
     "metadata": {},
     "output_type": "execute_result"
    }
   ],
   "source": [
    "\n",
    "independentEvaluationData.head()"
   ]
  },
  {
   "cell_type": "markdown",
   "metadata": {},
   "source": [
    "#### Checking the quanity of each shape in Independent Traffic Sign Dataset"
   ]
  },
  {
   "cell_type": "code",
   "execution_count": 16,
   "metadata": {},
   "outputs": [
    {
     "name": "stdout",
     "output_type": "stream",
     "text": [
      "Number of diamond shaped signs  11\n",
      "Number of hex shaped signs   7\n",
      "Number of round shaped signs  101\n",
      "Number of square shaped signs   36\n",
      "Number of triangle shaped signs  23\n"
     ]
    }
   ],
   "source": [
    "print (\"Number of diamond shaped signs \" , len(independentEvaluationData[independentEvaluationData['label']=='diamond']))\n",
    "print (\"Number of hex shaped signs  \" , len(independentEvaluationData[independentEvaluationData['label']=='hex']))\n",
    "print (\"Number of round shaped signs \" , len(independentEvaluationData[independentEvaluationData['label']=='round']))\n",
    "print (\"Number of square shaped signs  \",len(independentEvaluationData[independentEvaluationData['label']=='square']))\n",
    "print (\"Number of triangle shaped signs \", len(independentEvaluationData[independentEvaluationData['label']=='triangle']))\n",
    "\n"
   ]
  },
  {
   "cell_type": "markdown",
   "metadata": {},
   "source": [
    "#### Checking the Images in Independent Dataset"
   ]
  },
  {
   "cell_type": "code",
   "execution_count": 17,
   "metadata": {},
   "outputs": [
    {
     "data": {
      "image/png": "[encoded data removed]",
      "text/plain": [
       "<Figure size 864x216 with 3 Axes>"
      ]
     },
     "metadata": {},
     "output_type": "display_data"
    }
   ],
   "source": [
    "random_image_list = independentEvaluationData.loc[np.random.choice(100, 3),'image_path']\n",
    "plt.figure(figsize=(12,3))\n",
    "for i, image_path in enumerate(random_image_list ):\n",
    "    im = np.asarray(Image.open(image_path))\n",
    "    plt.subplot(1,3,i+1)\n",
    "    plt.imshow(im,cmap='gray')\n",
    "    plt.axis('off')  \n",
    "plt.show()"
   ]
  },
  {
   "cell_type": "markdown",
   "metadata": {},
   "source": [
    "#### Independent Test Data Generator"
   ]
  },
  {
   "cell_type": "code",
   "execution_count": 18,
   "metadata": {},
   "outputs": [
    {
     "name": "stdout",
     "output_type": "stream",
     "text": [
      "Found 178 validated image filenames belonging to 5 classes.\n"
     ]
    }
   ],
   "source": [
    "from tensorflow.keras.preprocessing.image import ImageDataGenerator\n",
    "independentTestData_datagen = ImageDataGenerator(rescale=1./255, data_format='channels_last')\n",
    "batch_size = 16\n",
    "\n",
    "independentTestDataGenerator = independentTestData_datagen.flow_from_dataframe(\n",
    "        dataframe=independentEvaluationData,\n",
    "        directory='./',\n",
    "        x_col=\"image_path\",\n",
    "        y_col=\"label\",\n",
    "        target_size=(28, 28),\n",
    "        batch_size=batch_size,\n",
    "        shuffle = False,\n",
    "        class_mode='categorical')"
   ]
  },
  {
   "cell_type": "markdown",
   "metadata": {},
   "source": [
    "#### evaluateModel() function prints Confution Matrix and Classification Report based on the test data from original traffic sign dataset"
   ]
  },
  {
   "cell_type": "code",
   "execution_count": 19,
   "metadata": {},
   "outputs": [],
   "source": [
    "def evaluateModel(model):\n",
    "    test_generator.reset()\n",
    "    Y_pred = model.predict_generator(test_generator)\n",
    "    y_pred= np.argmax(Y_pred, axis=1)\n",
    "    print('Confusion Matrix')\n",
    "    print(confusion_matrix(test_generator.classes, y_pred))\n",
    "    print('Classification Report')\n",
    "    target_names = ['diamond', 'hex', 'round','square','triangle']\n",
    "    print(classification_report(test_generator.classes, y_pred, target_names=target_names))"
   ]
  },
  {
   "cell_type": "markdown",
   "metadata": {},
   "source": [
    "#### displayPlotsMLP() function displays the Multilayer Perceptron Training,Validation Accuracy/Loss vs Epoch graphs"
   ]
  },
  {
   "cell_type": "code",
   "execution_count": 20,
   "metadata": {},
   "outputs": [],
   "source": [
    "def displayPlotsMLP(history):\n",
    "    ## Accuracy Graph\n",
    "    plt.plot(history.history['acc'])\n",
    "    plt.plot(history.history['val_acc'])\n",
    "    plt.title('model accuracy')\n",
    "    plt.ylabel('accuracy')\n",
    "    plt.xlabel('epoch')\n",
    "    plt.legend(['train', 'validation'], loc='upper left')\n",
    "    plt.show()\n",
    "    ## Loss Graph\n",
    "    plt.plot(history.history['loss'])\n",
    "    plt.plot(history.history['val_loss'])\n",
    "    plt.title('model loss')\n",
    "    plt.ylabel('loss')\n",
    "    plt.xlabel('epoch')\n",
    "    plt.legend(['train', 'validation'], loc='upper left')\n",
    "    plt.show()"
   ]
  },
  {
   "cell_type": "markdown",
   "metadata": {},
   "source": [
    "#### displayPlots() function displays the CNN Training,Validation Accuracy/Loss vs Epoch graphs"
   ]
  },
  {
   "cell_type": "code",
   "execution_count": 21,
   "metadata": {},
   "outputs": [],
   "source": [
    "def displayPlots(history):\n",
    "    ## Accuracy Graph\n",
    "    plt.plot(history.history['categorical_accuracy'])\n",
    "    plt.plot(history.history['val_categorical_accuracy'])\n",
    "    plt.title('model accuracy')\n",
    "    plt.ylabel('accuracy')\n",
    "    plt.xlabel('epoch')\n",
    "    plt.legend(['train', 'validation'], loc='upper left')\n",
    "    plt.show()\n",
    "    \n",
    "    ##Loss Graph\n",
    "    plt.plot(history.history['loss'])\n",
    "    plt.plot(history.history['val_loss'])\n",
    "    plt.title('model loss')\n",
    "    plt.ylabel('loss')\n",
    "    plt.xlabel('epoch')\n",
    "    plt.legend(['train', 'validation'], loc='upper left')\n",
    "    plt.show()"
   ]
  },
  {
   "cell_type": "markdown",
   "metadata": {},
   "source": [
    "#### independentEvaluation() function prints Confusion Matrix and Classification report based on the model"
   ]
  },
  {
   "cell_type": "code",
   "execution_count": 22,
   "metadata": {},
   "outputs": [],
   "source": [
    "def independentEvaluation(model,history):\n",
    "    independentTestDataGenerator.reset()\n",
    "    Y_pred = model.predict_generator(independentTestDataGenerator)\n",
    "    y_pred= np.argmax(Y_pred, axis=1)\n",
    "    print('Confusion Matrix')\n",
    "    print(confusion_matrix(independentTestDataGenerator.classes, y_pred))\n",
    "    print('Classification Report')\n",
    "    target_names = ['diamonds', 'hex', 'round','square','triangle']\n",
    "    print(classification_report(independentTestDataGenerator.classes, y_pred, target_names=target_names))"
   ]
  },
  {
   "cell_type": "markdown",
   "metadata": {},
   "source": [
    "# Multi-Layer Perceptron Model (MLP)"
   ]
  },
  {
   "cell_type": "markdown",
   "metadata": {},
   "source": [
    "### MLP Model wit 2 Hidden Layers, SGD Optimizer"
   ]
  },
  {
   "cell_type": "code",
   "execution_count": 23,
   "metadata": {},
   "outputs": [
    {
     "name": "stdout",
     "output_type": "stream",
     "text": [
      "WARNING:tensorflow:From /home/ec2-user/anaconda3/envs/tensorflow_p36/lib/python3.6/site-packages/tensorflow_core/python/ops/resource_variable_ops.py:1630: calling BaseResourceVariable.__init__ (from tensorflow.python.ops.resource_variable_ops) with constraint is deprecated and will be removed in a future version.\n",
      "Instructions for updating:\n",
      "If using Keras pass *_constraint arguments to layers.\n",
      "Model: \"model\"\n",
      "_________________________________________________________________\n",
      "Layer (type)                 Output Shape              Param #   \n",
      "=================================================================\n",
      "input_1 (InputLayer)         [(None, 28, 28, 3)]       0         \n",
      "_________________________________________________________________\n",
      "lambda (Lambda)              (None, 28, 28, 1)         0         \n",
      "_________________________________________________________________\n",
      "flatten (Flatten)            (None, 784)               0         \n",
      "_________________________________________________________________\n",
      "dense (Dense)                (None, 64)                50240     \n",
      "_________________________________________________________________\n",
      "activation (Activation)      (None, 64)                0         \n",
      "_________________________________________________________________\n",
      "dense_1 (Dense)              (None, 64)                4160      \n",
      "_________________________________________________________________\n",
      "activation_1 (Activation)    (None, 64)                0         \n",
      "_________________________________________________________________\n",
      "dense_2 (Dense)              (None, 5)                 325       \n",
      "_________________________________________________________________\n",
      "activation_2 (Activation)    (None, 5)                 0         \n",
      "=================================================================\n",
      "Total params: 54,725\n",
      "Trainable params: 54,725\n",
      "Non-trainable params: 0\n",
      "_________________________________________________________________\n",
      "WARNING:tensorflow:OMP_NUM_THREADS is no longer used by the default Keras config. To configure the number of threads, use tf.config.threading APIs.\n",
      "Restoring model weights from the end of the best epoch.\n",
      "Epoch 00099: early stopping\n",
      "Confusion Matrix\n",
      "[[ 52   0   5   1   2]\n",
      " [  0   9   1   0   0]\n",
      " [  0   0 364   4   7]\n",
      " [  0   0   3 118   3]\n",
      " [  0   0   4   0 167]]\n",
      "Classification Report\n",
      "              precision    recall  f1-score   support\n",
      "\n",
      "     diamond       1.00      0.87      0.93        60\n",
      "         hex       1.00      0.90      0.95        10\n",
      "       round       0.97      0.97      0.97       375\n",
      "      square       0.96      0.95      0.96       124\n",
      "    triangle       0.93      0.98      0.95       171\n",
      "\n",
      "    accuracy                           0.96       740\n",
      "   macro avg       0.97      0.93      0.95       740\n",
      "weighted avg       0.96      0.96      0.96       740\n",
      "\n"
     ]
    },
    {
     "data": {
      "image/png": "[encoded data removed]",
      "text/plain": [
       "<Figure size 432x288 with 1 Axes>"
      ]
     },
     "metadata": {},
     "output_type": "display_data"
    },
    {
     "data": {
      "image/png": "[encoded data removed]",
      "text/plain": [
       "<Figure size 432x288 with 1 Axes>"
      ]
     },
     "metadata": {},
     "output_type": "display_data"
    },
    {
     "name": "stdout",
     "output_type": "stream",
     "text": [
      "Confusion Matrix\n",
      "[[ 2  0  5  0  4]\n",
      " [ 1  0  6  0  0]\n",
      " [18  0 58 13 12]\n",
      " [ 2  0 15 11  8]\n",
      " [ 0  0  3  2 18]]\n",
      "Classification Report\n",
      "              precision    recall  f1-score   support\n",
      "\n",
      "    diamonds       0.09      0.18      0.12        11\n",
      "         hex       0.00      0.00      0.00         7\n",
      "       round       0.67      0.57      0.62       101\n",
      "      square       0.42      0.31      0.35        36\n",
      "    triangle       0.43      0.78      0.55        23\n",
      "\n",
      "    accuracy                           0.50       178\n",
      "   macro avg       0.32      0.37      0.33       178\n",
      "weighted avg       0.52      0.50      0.50       178\n",
      "\n"
     ]
    }
   ],
   "source": [
    "input_ = Input(shape=(28, 28, 3))\n",
    "\n",
    "input_slice = Lambda(lambda x: tf.expand_dims(x[:,:,:,0], -1, name=None))(input_)\n",
    "\n",
    "x = Flatten()(input_slice) # This will convert the 28x28 input to a vector of dimension 784\n",
    "\n",
    "# First Hidden layer\n",
    "h = Dense(64)(x)\n",
    "h = Activation('relu')(h)\n",
    "\n",
    "# Second Hidden layer\n",
    "h2 = Dense(64)(h)\n",
    "h2 = Activation('relu')(h2)\n",
    "\n",
    "# Output layer\n",
    "out_ = Dense(5)(h2)\n",
    "out_ = Activation('softmax')(out_)\n",
    "MLP = Model(inputs=input_, outputs=out_) # Setup the model\n",
    "\n",
    "sgd = optimizers.SGD(lr=0.01, decay=1e-6, momentum=0.9, nesterov=True)\n",
    "MLP.compile(loss='categorical_crossentropy',optimizer='sgd',metrics=['accuracy'])\n",
    "\n",
    "MLP.summary()\n",
    "\n",
    "# Early Stopping based on validation loss, minimum differece training loss and validation loss is 0.001, epoch 20\n",
    "monitor=EarlyStopping(monitor='val_loss',min_delta=1e-3,patience=20,verbose=1,restore_best_weights=True)\n",
    "# Fit the model\n",
    "history=MLP.fit_generator(generator=train_generator,\n",
    "                    validation_data=validation_generator,\n",
    "                    callbacks=[monitor],\n",
    "                    epochs=250,\n",
    "                    verbose=0\n",
    "                    )\n",
    "# Evaluate the model on the original dataset\n",
    "evaluateModel(MLP)\n",
    "# Display Training Validation Accuracy and Loss Graphs\n",
    "displayPlotsMLP(history)\n",
    "# Evaluate the model on the independent dataset\n",
    "independentEvaluation(MLP,history)"
   ]
  },
  {
   "cell_type": "markdown",
   "metadata": {},
   "source": [
    "## CNN Model"
   ]
  },
  {
   "cell_type": "markdown",
   "metadata": {},
   "source": [
    "### CNN Model with 2 Hidden Layers, SGD Optimizer"
   ]
  },
  {
   "cell_type": "code",
   "execution_count": 24,
   "metadata": {},
   "outputs": [
    {
     "name": "stdout",
     "output_type": "stream",
     "text": [
      "Model: \"sequential\"\n",
      "_________________________________________________________________\n",
      "Layer (type)                 Output Shape              Param #   \n",
      "=================================================================\n",
      "lambda_1 (Lambda)            (None, 28, 28, 1)         0         \n",
      "_________________________________________________________________\n",
      "conv2d (Conv2D)              (None, 26, 26, 32)        320       \n",
      "_________________________________________________________________\n",
      "activation_3 (Activation)    (None, 26, 26, 32)        0         \n",
      "_________________________________________________________________\n",
      "max_pooling2d (MaxPooling2D) (None, 13, 13, 32)        0         \n",
      "_________________________________________________________________\n",
      "conv2d_1 (Conv2D)            (None, 11, 11, 32)        9248      \n",
      "_________________________________________________________________\n",
      "activation_4 (Activation)    (None, 11, 11, 32)        0         \n",
      "_________________________________________________________________\n",
      "max_pooling2d_1 (MaxPooling2 (None, 5, 5, 32)          0         \n",
      "_________________________________________________________________\n",
      "flatten_1 (Flatten)          (None, 800)               0         \n",
      "_________________________________________________________________\n",
      "dense_3 (Dense)              (None, 64)                51264     \n",
      "_________________________________________________________________\n",
      "activation_5 (Activation)    (None, 64)                0         \n",
      "_________________________________________________________________\n",
      "dense_4 (Dense)              (None, 5)                 325       \n",
      "_________________________________________________________________\n",
      "activation_6 (Activation)    (None, 5)                 0         \n",
      "=================================================================\n",
      "Total params: 61,157\n",
      "Trainable params: 61,157\n",
      "Non-trainable params: 0\n",
      "_________________________________________________________________\n",
      "Restoring model weights from the end of the best epoch.\n",
      "Epoch 00038: early stopping\n",
      "Confusion Matrix\n",
      "[[ 57   0   2   0   1]\n",
      " [  0  10   0   0   0]\n",
      " [  1   0 373   1   0]\n",
      " [  0   0   1 122   1]\n",
      " [  0   0   1   2 168]]\n",
      "Classification Report\n",
      "              precision    recall  f1-score   support\n",
      "\n",
      "     diamond       0.98      0.95      0.97        60\n",
      "         hex       1.00      1.00      1.00        10\n",
      "       round       0.99      0.99      0.99       375\n",
      "      square       0.98      0.98      0.98       124\n",
      "    triangle       0.99      0.98      0.99       171\n",
      "\n",
      "    accuracy                           0.99       740\n",
      "   macro avg       0.99      0.98      0.98       740\n",
      "weighted avg       0.99      0.99      0.99       740\n",
      "\n"
     ]
    },
    {
     "data": {
      "image/png": "[encoded data removed]",
      "text/plain": [
       "<Figure size 432x288 with 1 Axes>"
      ]
     },
     "metadata": {},
     "output_type": "display_data"
    },
    {
     "data": {
      "image/png": "[encoded data removed]",
      "text/plain": [
       "<Figure size 432x288 with 1 Axes>"
      ]
     },
     "metadata": {},
     "output_type": "display_data"
    },
    {
     "name": "stdout",
     "output_type": "stream",
     "text": [
      "Confusion Matrix\n",
      "[[11  0  0  0  0]\n",
      " [ 0  4  3  0  0]\n",
      " [ 4  1 89  6  1]\n",
      " [ 0  0  6 22  8]\n",
      " [ 1  0  0  1 21]]\n",
      "Classification Report\n",
      "              precision    recall  f1-score   support\n",
      "\n",
      "    diamonds       0.69      1.00      0.81        11\n",
      "         hex       0.80      0.57      0.67         7\n",
      "       round       0.91      0.88      0.89       101\n",
      "      square       0.76      0.61      0.68        36\n",
      "    triangle       0.70      0.91      0.79        23\n",
      "\n",
      "    accuracy                           0.83       178\n",
      "   macro avg       0.77      0.80      0.77       178\n",
      "weighted avg       0.83      0.83      0.82       178\n",
      "\n"
     ]
    }
   ],
   "source": [
    "\n",
    "CNN_with_2HiddenLayers = Sequential()\n",
    "\n",
    "# input\n",
    "CNN_with_2HiddenLayers.add(Input(shape=(28, 28, 3)))\n",
    "\n",
    "CNN_with_2HiddenLayers.add(Lambda(lambda x: tf.expand_dims(x[:,:,:,0], -1, name=None))) \n",
    "# this is a workaround. Dataloader automatically read one channel image as 3 channel \n",
    "#and we use Lambda layer to revert this back. Lambda layer can be used for operation \n",
    "#that does not involve trainianble weights\n",
    "\n",
    "# Conv Layer 1\n",
    "CNN_with_2HiddenLayers.add(Conv2D(32, (3, 3)))\n",
    "CNN_with_2HiddenLayers.add(Activation('relu'))\n",
    "CNN_with_2HiddenLayers.add(MaxPooling2D(pool_size=(2, 2)))\n",
    "\n",
    "# Conv Layer 2 \n",
    "CNN_with_2HiddenLayers.add(Conv2D(32, (3, 3)))\n",
    "CNN_with_2HiddenLayers.add(Activation('relu'))\n",
    "CNN_with_2HiddenLayers.add(MaxPooling2D(pool_size=(2, 2)))\n",
    "\n",
    "\n",
    "# MLP\n",
    "CNN_with_2HiddenLayers.add(Flatten())  # this converts our 3D feature maps to 1D feature vectors\n",
    "CNN_with_2HiddenLayers.add(Dense(64))\n",
    "CNN_with_2HiddenLayers.add(Activation('relu'))\n",
    "CNN_with_2HiddenLayers.add(Dense(5))\n",
    "CNN_with_2HiddenLayers.add(Activation('softmax'))\n",
    "\n",
    "sgd = optimizers.SGD(lr=0.01, decay=1e-6, momentum=0.9, nesterov=True)\n",
    "CNN_with_2HiddenLayers.compile(loss='categorical_crossentropy',\n",
    "              optimizer=sgd,\n",
    "              metrics=[categorical_accuracy])\n",
    "\n",
    "CNN_with_2HiddenLayers.summary()\n",
    "\n",
    "# Early Stopping based on validation loss, minimum differece training loss and validation loss is 0.001, epoch 20\n",
    "monitor=EarlyStopping(monitor='val_loss',min_delta=1e-3,patience=20,verbose=1,restore_best_weights=True)\n",
    "history=CNN_with_2HiddenLayers.fit_generator(generator=train_generator,\n",
    "                    validation_data=validation_generator,\n",
    "                    callbacks=[monitor],\n",
    "                    epochs=250,\n",
    "                    verbose=0\n",
    "                    )\n",
    "\n",
    "# Evaluate the model on the original dataset\n",
    "evaluateModel(CNN_with_2HiddenLayers)\n",
    "# Display Training Validation Accuracy and Loss Graphs\n",
    "displayPlots(history)\n",
    "# Evaluation on Independent Data\n",
    "independentEvaluation(CNN_with_2HiddenLayers,history)\n",
    "               "
   ]
  },
  {
   "cell_type": "markdown",
   "metadata": {},
   "source": [
    "### CNN Model with 2 Hidden Layers, Dropout SGD Optimizer"
   ]
  },
  {
   "cell_type": "code",
   "execution_count": 25,
   "metadata": {},
   "outputs": [
    {
     "name": "stdout",
     "output_type": "stream",
     "text": [
      "Model: \"sequential_1\"\n",
      "_________________________________________________________________\n",
      "Layer (type)                 Output Shape              Param #   \n",
      "=================================================================\n",
      "lambda_2 (Lambda)            (None, 28, 28, 1)         0         \n",
      "_________________________________________________________________\n",
      "conv2d_2 (Conv2D)            (None, 26, 26, 32)        320       \n",
      "_________________________________________________________________\n",
      "activation_7 (Activation)    (None, 26, 26, 32)        0         \n",
      "_________________________________________________________________\n",
      "max_pooling2d_2 (MaxPooling2 (None, 13, 13, 32)        0         \n",
      "_________________________________________________________________\n",
      "conv2d_3 (Conv2D)            (None, 11, 11, 32)        9248      \n",
      "_________________________________________________________________\n",
      "activation_8 (Activation)    (None, 11, 11, 32)        0         \n",
      "_________________________________________________________________\n",
      "max_pooling2d_3 (MaxPooling2 (None, 5, 5, 32)          0         \n",
      "_________________________________________________________________\n",
      "flatten_2 (Flatten)          (None, 800)               0         \n",
      "_________________________________________________________________\n",
      "dense_5 (Dense)              (None, 64)                51264     \n",
      "_________________________________________________________________\n",
      "activation_9 (Activation)    (None, 64)                0         \n",
      "_________________________________________________________________\n",
      "dropout (Dropout)            (None, 64)                0         \n",
      "_________________________________________________________________\n",
      "dense_6 (Dense)              (None, 5)                 325       \n",
      "_________________________________________________________________\n",
      "activation_10 (Activation)   (None, 5)                 0         \n",
      "=================================================================\n",
      "Total params: 61,157\n",
      "Trainable params: 61,157\n",
      "Non-trainable params: 0\n",
      "_________________________________________________________________\n",
      "Restoring model weights from the end of the best epoch.\n",
      "Epoch 00038: early stopping\n",
      "Confusion Matrix\n",
      "[[ 59   0   1   0   0]\n",
      " [  0  10   0   0   0]\n",
      " [  0   0 372   2   1]\n",
      " [  0   0   0 124   0]\n",
      " [  0   0   0   0 171]]\n",
      "Classification Report\n",
      "              precision    recall  f1-score   support\n",
      "\n",
      "     diamond       1.00      0.98      0.99        60\n",
      "         hex       1.00      1.00      1.00        10\n",
      "       round       1.00      0.99      0.99       375\n",
      "      square       0.98      1.00      0.99       124\n",
      "    triangle       0.99      1.00      1.00       171\n",
      "\n",
      "    accuracy                           0.99       740\n",
      "   macro avg       1.00      1.00      1.00       740\n",
      "weighted avg       0.99      0.99      0.99       740\n",
      "\n"
     ]
    },
    {
     "data": {
      "image/png": "[encoded data removed]",
      "text/plain": [
       "<Figure size 432x288 with 1 Axes>"
      ]
     },
     "metadata": {},
     "output_type": "display_data"
    },
    {
     "data": {
      "image/png": "[encoded data removed]",
      "text/plain": [
       "<Figure size 432x288 with 1 Axes>"
      ]
     },
     "metadata": {},
     "output_type": "display_data"
    },
    {
     "name": "stdout",
     "output_type": "stream",
     "text": [
      "Confusion Matrix\n",
      "[[11  0  0  0  0]\n",
      " [ 0  5  2  0  0]\n",
      " [ 7  2 90  2  0]\n",
      " [ 0  0  4 19 13]\n",
      " [ 1  0  0  2 20]]\n",
      "Classification Report\n",
      "              precision    recall  f1-score   support\n",
      "\n",
      "    diamonds       0.58      1.00      0.73        11\n",
      "         hex       0.71      0.71      0.71         7\n",
      "       round       0.94      0.89      0.91       101\n",
      "      square       0.83      0.53      0.64        36\n",
      "    triangle       0.61      0.87      0.71        23\n",
      "\n",
      "    accuracy                           0.81       178\n",
      "   macro avg       0.73      0.80      0.74       178\n",
      "weighted avg       0.84      0.81      0.81       178\n",
      "\n"
     ]
    }
   ],
   "source": [
    "CNN_With_2HiddenLayers_WithDropout= Sequential()\n",
    "\n",
    "# input\n",
    "CNN_With_2HiddenLayers_WithDropout.add(Input(shape=(28, 28, 3)))\n",
    "\n",
    "CNN_With_2HiddenLayers_WithDropout.add(Lambda(lambda x: tf.expand_dims(x[:,:,:,0], -1, name=None))) \n",
    "# this is a workaround. Dataloader automatically read one channel image as 3 channel \n",
    "#and we use Lambda layer to revert this back. Lambda layer can be used for operation \n",
    "#that does not involve trainianble weights\n",
    "\n",
    "# Conv Layer 1\n",
    "CNN_With_2HiddenLayers_WithDropout.add(Conv2D(32, (3, 3)))\n",
    "CNN_With_2HiddenLayers_WithDropout.add(Activation('relu'))\n",
    "CNN_With_2HiddenLayers_WithDropout.add(MaxPooling2D(pool_size=(2, 2)))\n",
    "\n",
    "# Conv Layer 2 \n",
    "CNN_With_2HiddenLayers_WithDropout.add(Conv2D(32, (3, 3)))\n",
    "CNN_With_2HiddenLayers_WithDropout.add(Activation('relu'))\n",
    "CNN_With_2HiddenLayers_WithDropout.add(MaxPooling2D(pool_size=(2, 2)))\n",
    "\n",
    "\n",
    "\n",
    "# MLP\n",
    "CNN_With_2HiddenLayers_WithDropout.add(Flatten())  # this converts our 3D feature maps to 1D feature vectors\n",
    "CNN_With_2HiddenLayers_WithDropout.add(Dense(64))\n",
    "CNN_With_2HiddenLayers_WithDropout.add(Activation('relu'))\n",
    "CNN_With_2HiddenLayers_WithDropout.add(Dropout(0.5))\n",
    "CNN_With_2HiddenLayers_WithDropout.add(Dense(5))\n",
    "CNN_With_2HiddenLayers_WithDropout.add(Activation('softmax'))\n",
    "\n",
    "sgd = optimizers.SGD(lr=0.01, decay=1e-6, momentum=0.9, nesterov=True)\n",
    "CNN_With_2HiddenLayers_WithDropout.compile(loss='categorical_crossentropy',\n",
    "              optimizer=sgd,\n",
    "              metrics=[categorical_accuracy])\n",
    "\n",
    "# Early Stopping based on validation loss, minimum differece training loss and validation loss is 0.001, epoch 20\n",
    "CNN_With_2HiddenLayers_WithDropout.summary()\n",
    "monitor=EarlyStopping(monitor='val_loss',min_delta=1e-3,patience=20,verbose=1,restore_best_weights=True)\n",
    "history=CNN_With_2HiddenLayers_WithDropout.fit_generator(generator=train_generator,\n",
    "                    validation_data=validation_generator,\n",
    "                    callbacks=[monitor],\n",
    "                    epochs=250,\n",
    "                    verbose=0\n",
    "                    )\n",
    "# Evaluate the model on the original dataset\n",
    "evaluateModel(CNN_With_2HiddenLayers_WithDropout)\n",
    "# Display Training Validation Accuracy and Loss Graphs\n",
    "displayPlots(history)\n",
    "# Evaluate on the independent dataset\n",
    "independentEvaluation(CNN_With_2HiddenLayers_WithDropout,history)"
   ]
  },
  {
   "cell_type": "markdown",
   "metadata": {},
   "source": [
    "### CNN Model with 2 Hidden Layers, Dropout,ADAM Optimizer"
   ]
  },
  {
   "cell_type": "code",
   "execution_count": 26,
   "metadata": {},
   "outputs": [
    {
     "name": "stdout",
     "output_type": "stream",
     "text": [
      "Model: \"sequential_2\"\n",
      "_________________________________________________________________\n",
      "Layer (type)                 Output Shape              Param #   \n",
      "=================================================================\n",
      "lambda_3 (Lambda)            (None, 28, 28, 1)         0         \n",
      "_________________________________________________________________\n",
      "conv2d_4 (Conv2D)            (None, 26, 26, 32)        320       \n",
      "_________________________________________________________________\n",
      "activation_11 (Activation)   (None, 26, 26, 32)        0         \n",
      "_________________________________________________________________\n",
      "max_pooling2d_4 (MaxPooling2 (None, 13, 13, 32)        0         \n",
      "_________________________________________________________________\n",
      "conv2d_5 (Conv2D)            (None, 11, 11, 32)        9248      \n",
      "_________________________________________________________________\n",
      "activation_12 (Activation)   (None, 11, 11, 32)        0         \n",
      "_________________________________________________________________\n",
      "max_pooling2d_5 (MaxPooling2 (None, 5, 5, 32)          0         \n",
      "_________________________________________________________________\n",
      "flatten_3 (Flatten)          (None, 800)               0         \n",
      "_________________________________________________________________\n",
      "dense_7 (Dense)              (None, 64)                51264     \n",
      "_________________________________________________________________\n",
      "activation_13 (Activation)   (None, 64)                0         \n",
      "_________________________________________________________________\n",
      "dropout_1 (Dropout)          (None, 64)                0         \n",
      "_________________________________________________________________\n",
      "dense_8 (Dense)              (None, 5)                 325       \n",
      "_________________________________________________________________\n",
      "activation_14 (Activation)   (None, 5)                 0         \n",
      "=================================================================\n",
      "Total params: 61,157\n",
      "Trainable params: 61,157\n",
      "Non-trainable params: 0\n",
      "_________________________________________________________________\n",
      "Restoring model weights from the end of the best epoch.\n",
      "Epoch 00038: early stopping\n",
      "Confusion Matrix\n",
      "[[ 59   0   0   0   1]\n",
      " [  0  10   0   0   0]\n",
      " [  0   0 371   3   1]\n",
      " [  0   0   0 124   0]\n",
      " [  0   0   0   0 171]]\n",
      "Classification Report\n",
      "              precision    recall  f1-score   support\n",
      "\n",
      "     diamond       1.00      0.98      0.99        60\n",
      "         hex       1.00      1.00      1.00        10\n",
      "       round       1.00      0.99      0.99       375\n",
      "      square       0.98      1.00      0.99       124\n",
      "    triangle       0.99      1.00      0.99       171\n",
      "\n",
      "    accuracy                           0.99       740\n",
      "   macro avg       0.99      0.99      0.99       740\n",
      "weighted avg       0.99      0.99      0.99       740\n",
      "\n"
     ]
    },
    {
     "data": {
      "image/png": "[encoded data removed]",
      "text/plain": [
       "<Figure size 432x288 with 1 Axes>"
      ]
     },
     "metadata": {},
     "output_type": "display_data"
    },
    {
     "data": {
      "image/png": "[encoded data removed]",
      "text/plain": [
       "<Figure size 432x288 with 1 Axes>"
      ]
     },
     "metadata": {},
     "output_type": "display_data"
    },
    {
     "name": "stdout",
     "output_type": "stream",
     "text": [
      "Confusion Matrix\n",
      "[[11  0  0  0  0]\n",
      " [ 0  5  2  0  0]\n",
      " [ 5  0 92  3  1]\n",
      " [ 0  0  1 20 15]\n",
      " [ 0  0  0  0 23]]\n",
      "Classification Report\n",
      "              precision    recall  f1-score   support\n",
      "\n",
      "    diamonds       0.69      1.00      0.81        11\n",
      "         hex       1.00      0.71      0.83         7\n",
      "       round       0.97      0.91      0.94       101\n",
      "      square       0.87      0.56      0.68        36\n",
      "    triangle       0.59      1.00      0.74        23\n",
      "\n",
      "    accuracy                           0.85       178\n",
      "   macro avg       0.82      0.84      0.80       178\n",
      "weighted avg       0.88      0.85      0.85       178\n",
      "\n"
     ]
    }
   ],
   "source": [
    "\n",
    "\n",
    "CNN_With_2HiddenLayers_WithDropout_ADAM= Sequential()\n",
    "\n",
    "# input\n",
    "CNN_With_2HiddenLayers_WithDropout_ADAM.add(Input(shape=(28, 28, 3)))\n",
    "\n",
    "CNN_With_2HiddenLayers_WithDropout_ADAM.add(Lambda(lambda x: tf.expand_dims(x[:,:,:,0], -1, name=None))) \n",
    "# this is a workaround. Dataloader automatically read one channel image as 3 channel \n",
    "#and we use Lambda layer to revert this back. Lambda layer can be used for operation \n",
    "#that does not involve trainianble weights\n",
    "\n",
    "# Conv Layer 1\n",
    "CNN_With_2HiddenLayers_WithDropout_ADAM.add(Conv2D(32, (3, 3)))\n",
    "CNN_With_2HiddenLayers_WithDropout_ADAM.add(Activation('relu'))\n",
    "CNN_With_2HiddenLayers_WithDropout_ADAM.add(MaxPooling2D(pool_size=(2, 2)))\n",
    "\n",
    "# Conv Layer 2 \n",
    "CNN_With_2HiddenLayers_WithDropout_ADAM.add(Conv2D(32, (3, 3)))\n",
    "CNN_With_2HiddenLayers_WithDropout_ADAM.add(Activation('relu'))\n",
    "CNN_With_2HiddenLayers_WithDropout_ADAM.add(MaxPooling2D(pool_size=(2, 2)))\n",
    "\n",
    "\n",
    "\n",
    "# MLP\n",
    "CNN_With_2HiddenLayers_WithDropout_ADAM.add(Flatten())  # this converts our 3D feature maps to 1D feature vectors\n",
    "CNN_With_2HiddenLayers_WithDropout_ADAM.add(Dense(64))\n",
    "CNN_With_2HiddenLayers_WithDropout_ADAM.add(Activation('relu'))\n",
    "CNN_With_2HiddenLayers_WithDropout_ADAM.add(Dropout(0.5))\n",
    "CNN_With_2HiddenLayers_WithDropout_ADAM.add(Dense(5))\n",
    "CNN_With_2HiddenLayers_WithDropout_ADAM.add(Activation('softmax'))\n",
    "\n",
    "CNN_With_2HiddenLayers_WithDropout_ADAM.compile(loss='categorical_crossentropy',\n",
    "              optimizer='adam',\n",
    "              metrics=[categorical_accuracy])\n",
    "\n",
    "CNN_With_2HiddenLayers_WithDropout_ADAM.summary()\n",
    "\n",
    "# Early Stopping based on validation loss, minimum differece training loss and validation loss is 0.001, epoch 20\n",
    "monitor=EarlyStopping(monitor='val_loss',min_delta=1e-3,patience=20,verbose=1,restore_best_weights=True)\n",
    "history=CNN_With_2HiddenLayers_WithDropout_ADAM.fit_generator(generator=train_generator,\n",
    "                    validation_data=validation_generator,\n",
    "                    callbacks=[monitor],\n",
    "                    epochs=250,\n",
    "                    verbose=0\n",
    "                    )\n",
    "# Evaluate the model on the original dataset\n",
    "evaluateModel(CNN_With_2HiddenLayers_WithDropout_ADAM)\n",
    "# Display Training Validation Accuracy and Loss Graphs\n",
    "displayPlots(history)\n",
    "# Evaluate on Independent Data\n",
    "independentEvaluation(CNN_With_2HiddenLayers_WithDropout_ADAM,history)"
   ]
  },
  {
   "cell_type": "markdown",
   "metadata": {},
   "source": [
    "### CNN Model with 2 Hidden Layers, Dropout, ADAM Optimizer, L1 Regularization"
   ]
  },
  {
   "cell_type": "code",
   "execution_count": 27,
   "metadata": {},
   "outputs": [
    {
     "name": "stdout",
     "output_type": "stream",
     "text": [
      "Model: \"sequential_3\"\n",
      "_________________________________________________________________\n",
      "Layer (type)                 Output Shape              Param #   \n",
      "=================================================================\n",
      "lambda_4 (Lambda)            (None, 28, 28, 1)         0         \n",
      "_________________________________________________________________\n",
      "conv2d_6 (Conv2D)            (None, 26, 26, 32)        320       \n",
      "_________________________________________________________________\n",
      "activation_15 (Activation)   (None, 26, 26, 32)        0         \n",
      "_________________________________________________________________\n",
      "max_pooling2d_6 (MaxPooling2 (None, 13, 13, 32)        0         \n",
      "_________________________________________________________________\n",
      "conv2d_7 (Conv2D)            (None, 11, 11, 32)        9248      \n",
      "_________________________________________________________________\n",
      "activation_16 (Activation)   (None, 11, 11, 32)        0         \n",
      "_________________________________________________________________\n",
      "max_pooling2d_7 (MaxPooling2 (None, 5, 5, 32)          0         \n",
      "_________________________________________________________________\n",
      "flatten_4 (Flatten)          (None, 800)               0         \n",
      "_________________________________________________________________\n",
      "dense_9 (Dense)              (None, 64)                51264     \n",
      "_________________________________________________________________\n",
      "activation_17 (Activation)   (None, 64)                0         \n",
      "_________________________________________________________________\n",
      "dropout_2 (Dropout)          (None, 64)                0         \n",
      "_________________________________________________________________\n",
      "dense_10 (Dense)             (None, 5)                 325       \n",
      "_________________________________________________________________\n",
      "activation_18 (Activation)   (None, 5)                 0         \n",
      "=================================================================\n",
      "Total params: 61,157\n",
      "Trainable params: 61,157\n",
      "Non-trainable params: 0\n",
      "_________________________________________________________________\n",
      "Restoring model weights from the end of the best epoch.\n",
      "Epoch 00082: early stopping\n",
      "Confusion Matrix\n",
      "[[ 60   0   0   0   0]\n",
      " [  0  10   0   0   0]\n",
      " [  0   0 374   0   1]\n",
      " [  0   0   1 123   0]\n",
      " [  0   0   0   1 170]]\n",
      "Classification Report\n",
      "              precision    recall  f1-score   support\n",
      "\n",
      "     diamond       1.00      1.00      1.00        60\n",
      "         hex       1.00      1.00      1.00        10\n",
      "       round       1.00      1.00      1.00       375\n",
      "      square       0.99      0.99      0.99       124\n",
      "    triangle       0.99      0.99      0.99       171\n",
      "\n",
      "    accuracy                           1.00       740\n",
      "   macro avg       1.00      1.00      1.00       740\n",
      "weighted avg       1.00      1.00      1.00       740\n",
      "\n"
     ]
    },
    {
     "data": {
      "image/png": "[encoded data removed]",
      "text/plain": [
       "<Figure size 432x288 with 1 Axes>"
      ]
     },
     "metadata": {},
     "output_type": "display_data"
    },
    {
     "data": {
      "image/png": "[encoded data removed]",
      "text/plain": [
       "<Figure size 432x288 with 1 Axes>"
      ]
     },
     "metadata": {},
     "output_type": "display_data"
    },
    {
     "name": "stdout",
     "output_type": "stream",
     "text": [
      "Confusion Matrix\n",
      "[[10  0  1  0  0]\n",
      " [ 0  5  2  0  0]\n",
      " [ 2  0 96  3  0]\n",
      " [ 0  0  3 23 10]\n",
      " [ 0  0  0  0 23]]\n",
      "Classification Report\n",
      "              precision    recall  f1-score   support\n",
      "\n",
      "    diamonds       0.83      0.91      0.87        11\n",
      "         hex       1.00      0.71      0.83         7\n",
      "       round       0.94      0.95      0.95       101\n",
      "      square       0.88      0.64      0.74        36\n",
      "    triangle       0.70      1.00      0.82        23\n",
      "\n",
      "    accuracy                           0.88       178\n",
      "   macro avg       0.87      0.84      0.84       178\n",
      "weighted avg       0.89      0.88      0.88       178\n",
      "\n"
     ]
    }
   ],
   "source": [
    "\n",
    "\n",
    "\n",
    "\n",
    "CNN_With_2HiddenLayers_WithDropout_ADAM_L1reg= Sequential()\n",
    "\n",
    "# input\n",
    "CNN_With_2HiddenLayers_WithDropout_ADAM_L1reg.add(Input(shape=(28, 28, 3)))\n",
    "\n",
    "CNN_With_2HiddenLayers_WithDropout_ADAM_L1reg.add(Lambda(lambda x: tf.expand_dims(x[:,:,:,0], -1, name=None))) \n",
    "# this is a workaround. Dataloader automatically read one channel image as 3 channel \n",
    "#and we use Lambda layer to revert this back. Lambda layer can be used for operation \n",
    "#that does not involve trainianble weights\n",
    "\n",
    "# Conv Layer 1\n",
    "CNN_With_2HiddenLayers_WithDropout_ADAM_L1reg.add(Conv2D(32, (3, 3),kernel_regularizer=regularizers.l1(0.001)))\n",
    "CNN_With_2HiddenLayers_WithDropout_ADAM_L1reg.add(Activation('relu'))\n",
    "CNN_With_2HiddenLayers_WithDropout_ADAM_L1reg.add(MaxPooling2D(pool_size=(2, 2)))\n",
    "\n",
    "# Conv Layer 2 \n",
    "CNN_With_2HiddenLayers_WithDropout_ADAM_L1reg.add(Conv2D(32, (3, 3)))\n",
    "CNN_With_2HiddenLayers_WithDropout_ADAM_L1reg.add(Activation('relu'))\n",
    "CNN_With_2HiddenLayers_WithDropout_ADAM_L1reg.add(MaxPooling2D(pool_size=(2, 2)))\n",
    "\n",
    "\n",
    "\n",
    "# MLP\n",
    "CNN_With_2HiddenLayers_WithDropout_ADAM_L1reg.add(Flatten())  # this converts our 3D feature maps to 1D feature vectors\n",
    "CNN_With_2HiddenLayers_WithDropout_ADAM_L1reg.add(Dense(64))\n",
    "CNN_With_2HiddenLayers_WithDropout_ADAM_L1reg.add(Activation('relu'))\n",
    "CNN_With_2HiddenLayers_WithDropout_ADAM_L1reg.add(Dropout(0.5))\n",
    "CNN_With_2HiddenLayers_WithDropout_ADAM_L1reg.add(Dense(5))\n",
    "CNN_With_2HiddenLayers_WithDropout_ADAM_L1reg.add(Activation('softmax'))\n",
    "\n",
    "CNN_With_2HiddenLayers_WithDropout_ADAM_L1reg.compile(loss='categorical_crossentropy',\n",
    "              optimizer='adam',\n",
    "              metrics=[categorical_accuracy])\n",
    "\n",
    "CNN_With_2HiddenLayers_WithDropout_ADAM_L1reg.summary()\n",
    "\n",
    "# Early Stopping based on validation loss, minimum differece training loss and validation loss is 0.001, epoch 20\n",
    "monitor=EarlyStopping(monitor='val_loss',min_delta=1e-3,patience=20,verbose=1,restore_best_weights=True)\n",
    "history=CNN_With_2HiddenLayers_WithDropout_ADAM_L1reg.fit_generator(generator=train_generator,\n",
    "                    validation_data=validation_generator,\n",
    "                    callbacks=[monitor],\n",
    "                    epochs=250,\n",
    "                    verbose=0\n",
    "                    )\n",
    "# Evaluate the model on the original dataset\n",
    "evaluateModel(CNN_With_2HiddenLayers_WithDropout_ADAM_L1reg)\n",
    "# Display Training Validation Accuracy and Loss Graphs\n",
    "displayPlots(history)\n",
    "# Evalution on Independent Data\n",
    "independentEvaluation(CNN_With_2HiddenLayers_WithDropout_ADAM_L1reg,history)"
   ]
  },
  {
   "cell_type": "markdown",
   "metadata": {},
   "source": [
    "### CNN Model with 2 Hidden Layers, Dropout, ADAM Optimizer, L2 Regularization"
   ]
  },
  {
   "cell_type": "code",
   "execution_count": 28,
   "metadata": {},
   "outputs": [
    {
     "name": "stdout",
     "output_type": "stream",
     "text": [
      "Model: \"sequential_4\"\n",
      "_________________________________________________________________\n",
      "Layer (type)                 Output Shape              Param #   \n",
      "=================================================================\n",
      "lambda_5 (Lambda)            (None, 28, 28, 1)         0         \n",
      "_________________________________________________________________\n",
      "conv2d_8 (Conv2D)            (None, 26, 26, 32)        320       \n",
      "_________________________________________________________________\n",
      "activation_19 (Activation)   (None, 26, 26, 32)        0         \n",
      "_________________________________________________________________\n",
      "max_pooling2d_8 (MaxPooling2 (None, 13, 13, 32)        0         \n",
      "_________________________________________________________________\n",
      "conv2d_9 (Conv2D)            (None, 11, 11, 32)        9248      \n",
      "_________________________________________________________________\n",
      "activation_20 (Activation)   (None, 11, 11, 32)        0         \n",
      "_________________________________________________________________\n",
      "max_pooling2d_9 (MaxPooling2 (None, 5, 5, 32)          0         \n",
      "_________________________________________________________________\n",
      "flatten_5 (Flatten)          (None, 800)               0         \n",
      "_________________________________________________________________\n",
      "dense_11 (Dense)             (None, 64)                51264     \n",
      "_________________________________________________________________\n",
      "activation_21 (Activation)   (None, 64)                0         \n",
      "_________________________________________________________________\n",
      "dropout_3 (Dropout)          (None, 64)                0         \n",
      "_________________________________________________________________\n",
      "dense_12 (Dense)             (None, 5)                 325       \n",
      "_________________________________________________________________\n",
      "activation_22 (Activation)   (None, 5)                 0         \n",
      "=================================================================\n",
      "Total params: 61,157\n",
      "Trainable params: 61,157\n",
      "Non-trainable params: 0\n",
      "_________________________________________________________________\n",
      "Restoring model weights from the end of the best epoch.\n",
      "Epoch 00046: early stopping\n",
      "Confusion Matrix\n",
      "[[ 58   0   1   0   1]\n",
      " [  0  10   0   0   0]\n",
      " [  0   0 372   2   1]\n",
      " [  0   0   1 122   1]\n",
      " [  0   0   0   0 171]]\n",
      "Classification Report\n",
      "              precision    recall  f1-score   support\n",
      "\n",
      "     diamond       1.00      0.97      0.98        60\n",
      "         hex       1.00      1.00      1.00        10\n",
      "       round       0.99      0.99      0.99       375\n",
      "      square       0.98      0.98      0.98       124\n",
      "    triangle       0.98      1.00      0.99       171\n",
      "\n",
      "    accuracy                           0.99       740\n",
      "   macro avg       0.99      0.99      0.99       740\n",
      "weighted avg       0.99      0.99      0.99       740\n",
      "\n"
     ]
    },
    {
     "data": {
      "image/png": "[encoded data removed]",
      "text/plain": [
       "<Figure size 432x288 with 1 Axes>"
      ]
     },
     "metadata": {},
     "output_type": "display_data"
    },
    {
     "data": {
      "image/png": "[encoded data removed]",
      "text/plain": [
       "<Figure size 432x288 with 1 Axes>"
      ]
     },
     "metadata": {},
     "output_type": "display_data"
    },
    {
     "name": "stdout",
     "output_type": "stream",
     "text": [
      "Confusion Matrix\n",
      "[[10  0  1  0  0]\n",
      " [ 0  5  2  0  0]\n",
      " [ 8  0 91  2  0]\n",
      " [ 0  0  2 20 14]\n",
      " [ 0  0  0  0 23]]\n",
      "Classification Report\n",
      "              precision    recall  f1-score   support\n",
      "\n",
      "    diamonds       0.56      0.91      0.69        11\n",
      "         hex       1.00      0.71      0.83         7\n",
      "       round       0.95      0.90      0.92       101\n",
      "      square       0.91      0.56      0.69        36\n",
      "    triangle       0.62      1.00      0.77        23\n",
      "\n",
      "    accuracy                           0.84       178\n",
      "   macro avg       0.81      0.82      0.78       178\n",
      "weighted avg       0.88      0.84      0.84       178\n",
      "\n"
     ]
    }
   ],
   "source": [
    "CNN_With_2HiddenLayers_WithDropout_ADAM_L2reg= Sequential()\n",
    "\n",
    "# input\n",
    "CNN_With_2HiddenLayers_WithDropout_ADAM_L2reg.add(Input(shape=(28, 28, 3)))\n",
    "\n",
    "CNN_With_2HiddenLayers_WithDropout_ADAM_L2reg.add(Lambda(lambda x: tf.expand_dims(x[:,:,:,0], -1, name=None))) \n",
    "# this is a workaround. Dataloader automatically read one channel image as 3 channel \n",
    "#and we use Lambda layer to revert this back. Lambda layer can be used for operation \n",
    "#that does not involve trainianble weights\n",
    "\n",
    "# Conv Layer 1\n",
    "CNN_With_2HiddenLayers_WithDropout_ADAM_L2reg.add(Conv2D(32, (3, 3),kernel_regularizer=regularizers.l1(0.001)))\n",
    "CNN_With_2HiddenLayers_WithDropout_ADAM_L2reg.add(Activation('relu'))\n",
    "CNN_With_2HiddenLayers_WithDropout_ADAM_L2reg.add(MaxPooling2D(pool_size=(2, 2)))\n",
    "\n",
    "# Conv Layer 2 \n",
    "CNN_With_2HiddenLayers_WithDropout_ADAM_L2reg.add(Conv2D(32, (3, 3)))\n",
    "CNN_With_2HiddenLayers_WithDropout_ADAM_L2reg.add(Activation('relu'))\n",
    "CNN_With_2HiddenLayers_WithDropout_ADAM_L2reg.add(MaxPooling2D(pool_size=(2, 2)))\n",
    "\n",
    "\n",
    "\n",
    "# MLP\n",
    "CNN_With_2HiddenLayers_WithDropout_ADAM_L2reg.add(Flatten())  # this converts our 3D feature maps to 1D feature vectors\n",
    "CNN_With_2HiddenLayers_WithDropout_ADAM_L2reg.add(Dense(64))\n",
    "CNN_With_2HiddenLayers_WithDropout_ADAM_L2reg.add(Activation('relu'))\n",
    "CNN_With_2HiddenLayers_WithDropout_ADAM_L2reg.add(Dropout(0.5))\n",
    "CNN_With_2HiddenLayers_WithDropout_ADAM_L2reg.add(Dense(5))\n",
    "CNN_With_2HiddenLayers_WithDropout_ADAM_L2reg.add(Activation('softmax'))\n",
    "\n",
    "CNN_With_2HiddenLayers_WithDropout_ADAM_L2reg.compile(loss='categorical_crossentropy',\n",
    "              optimizer='adam',\n",
    "              metrics=[categorical_accuracy])\n",
    "\n",
    "CNN_With_2HiddenLayers_WithDropout_ADAM_L2reg.summary()\n",
    "\n",
    "# Early Stopping based on validation loss, minimum differece training loss and validation loss is 0.001, epoch 20\n",
    "monitor=EarlyStopping(monitor='val_loss',min_delta=1e-3,patience=20,verbose=1,restore_best_weights=True)\n",
    "history=CNN_With_2HiddenLayers_WithDropout_ADAM_L2reg.fit_generator(generator=train_generator,\n",
    "                    validation_data=validation_generator,\n",
    "                    callbacks=[monitor],\n",
    "                    epochs=250,\n",
    "                    verbose=0\n",
    "                    )\n",
    "# Evaluate the model on the original dataset\n",
    "evaluateModel(CNN_With_2HiddenLayers_WithDropout_ADAM_L2reg)\n",
    "# Display Training Validation Accuracy and Loss Graphs\n",
    "displayPlots(history)\n",
    "# Evalution on Independent Data\n",
    "independentEvaluation(CNN_With_2HiddenLayers_WithDropout_ADAM_L2reg,history)"
   ]
  },
  {
   "cell_type": "markdown",
   "metadata": {},
   "source": [
    "### CNN Model with 3 Hidden Layers, SGD Optimizer"
   ]
  },
  {
   "cell_type": "code",
   "execution_count": 29,
   "metadata": {},
   "outputs": [
    {
     "name": "stdout",
     "output_type": "stream",
     "text": [
      "Model: \"sequential_5\"\n",
      "_________________________________________________________________\n",
      "Layer (type)                 Output Shape              Param #   \n",
      "=================================================================\n",
      "lambda_6 (Lambda)            (None, 28, 28, 1)         0         \n",
      "_________________________________________________________________\n",
      "conv2d_10 (Conv2D)           (None, 26, 26, 32)        320       \n",
      "_________________________________________________________________\n",
      "activation_23 (Activation)   (None, 26, 26, 32)        0         \n",
      "_________________________________________________________________\n",
      "max_pooling2d_10 (MaxPooling (None, 13, 13, 32)        0         \n",
      "_________________________________________________________________\n",
      "conv2d_11 (Conv2D)           (None, 11, 11, 32)        9248      \n",
      "_________________________________________________________________\n",
      "activation_24 (Activation)   (None, 11, 11, 32)        0         \n",
      "_________________________________________________________________\n",
      "max_pooling2d_11 (MaxPooling (None, 5, 5, 32)          0         \n",
      "_________________________________________________________________\n",
      "conv2d_12 (Conv2D)           (None, 3, 3, 64)          18496     \n",
      "_________________________________________________________________\n",
      "activation_25 (Activation)   (None, 3, 3, 64)          0         \n",
      "_________________________________________________________________\n",
      "max_pooling2d_12 (MaxPooling (None, 1, 1, 64)          0         \n",
      "_________________________________________________________________\n",
      "flatten_6 (Flatten)          (None, 64)                0         \n",
      "_________________________________________________________________\n",
      "dense_13 (Dense)             (None, 64)                4160      \n",
      "_________________________________________________________________\n",
      "activation_26 (Activation)   (None, 64)                0         \n",
      "_________________________________________________________________\n",
      "dense_14 (Dense)             (None, 5)                 325       \n",
      "_________________________________________________________________\n",
      "activation_27 (Activation)   (None, 5)                 0         \n",
      "=================================================================\n",
      "Total params: 32,549\n",
      "Trainable params: 32,549\n",
      "Non-trainable params: 0\n",
      "_________________________________________________________________\n",
      "Restoring model weights from the end of the best epoch.\n",
      "Epoch 00033: early stopping\n",
      "Confusion Matrix\n",
      "[[ 58   0   2   0   0]\n",
      " [  0  10   0   0   0]\n",
      " [  5   0 364   4   2]\n",
      " [  0   0   1 123   0]\n",
      " [  1   0   0   5 165]]\n",
      "Classification Report\n",
      "              precision    recall  f1-score   support\n",
      "\n",
      "     diamond       0.91      0.97      0.94        60\n",
      "         hex       1.00      1.00      1.00        10\n",
      "       round       0.99      0.97      0.98       375\n",
      "      square       0.93      0.99      0.96       124\n",
      "    triangle       0.99      0.96      0.98       171\n",
      "\n",
      "    accuracy                           0.97       740\n",
      "   macro avg       0.96      0.98      0.97       740\n",
      "weighted avg       0.97      0.97      0.97       740\n",
      "\n"
     ]
    },
    {
     "data": {
      "image/png": "[encoded data removed]",
      "text/plain": [
       "<Figure size 432x288 with 1 Axes>"
      ]
     },
     "metadata": {},
     "output_type": "display_data"
    },
    {
     "data": {
      "image/png": "[encoded data removed]",
      "text/plain": [
       "<Figure size 432x288 with 1 Axes>"
      ]
     },
     "metadata": {},
     "output_type": "display_data"
    },
    {
     "name": "stdout",
     "output_type": "stream",
     "text": [
      "Confusion Matrix\n",
      "[[10  0  1  0  0]\n",
      " [ 0  6  1  0  0]\n",
      " [19  0 67  4 11]\n",
      " [ 1  0 10 14 11]\n",
      " [ 0  0  3  0 20]]\n",
      "Classification Report\n",
      "              precision    recall  f1-score   support\n",
      "\n",
      "    diamonds       0.33      0.91      0.49        11\n",
      "         hex       1.00      0.86      0.92         7\n",
      "       round       0.82      0.66      0.73       101\n",
      "      square       0.78      0.39      0.52        36\n",
      "    triangle       0.48      0.87      0.62        23\n",
      "\n",
      "    accuracy                           0.66       178\n",
      "   macro avg       0.68      0.74      0.66       178\n",
      "weighted avg       0.74      0.66      0.67       178\n",
      "\n"
     ]
    }
   ],
   "source": [
    "\n",
    "\n",
    "CNN_With_3HiddenLayers = Sequential()\n",
    "\n",
    "# input\n",
    "CNN_With_3HiddenLayers.add(Input(shape=(28, 28, 3)))\n",
    "\n",
    "CNN_With_3HiddenLayers.add(Lambda(lambda x: tf.expand_dims(x[:,:,:,0], -1, name=None))) \n",
    "# this is a workaround. Dataloader automatically read one channel image as 3 channel \n",
    "#and we use Lambda layer to revert this back. Lambda layer can be used for operation \n",
    "#that does not involve trainianble weights\n",
    "\n",
    "# Conv Layer 1\n",
    "CNN_With_3HiddenLayers.add(Conv2D(32, (3, 3)))\n",
    "CNN_With_3HiddenLayers.add(Activation('relu'))\n",
    "CNN_With_3HiddenLayers.add(MaxPooling2D(pool_size=(2, 2)))\n",
    "\n",
    "# Conv Layer 2 \n",
    "CNN_With_3HiddenLayers.add(Conv2D(32, (3, 3)))\n",
    "CNN_With_3HiddenLayers.add(Activation('relu'))\n",
    "CNN_With_3HiddenLayers.add(MaxPooling2D(pool_size=(2, 2)))\n",
    "\n",
    "# Conv Layer 3\n",
    "CNN_With_3HiddenLayers.add(Conv2D(64, (3, 3)))\n",
    "CNN_With_3HiddenLayers.add(Activation('relu'))\n",
    "CNN_With_3HiddenLayers.add(MaxPooling2D(pool_size=(2, 2)))\n",
    "\n",
    "# MLP\n",
    "CNN_With_3HiddenLayers.add(Flatten())  # this converts our 3D feature maps to 1D feature vectors\n",
    "CNN_With_3HiddenLayers.add(Dense(64))\n",
    "CNN_With_3HiddenLayers.add(Activation('relu'))\n",
    "CNN_With_3HiddenLayers.add(Dense(5))\n",
    "CNN_With_3HiddenLayers.add(Activation('softmax'))\n",
    "\n",
    "sgd = optimizers.SGD(lr=0.01, decay=1e-6, momentum=0.9, nesterov=True)\n",
    "CNN_With_3HiddenLayers.compile(loss='categorical_crossentropy',\n",
    "              optimizer=sgd,\n",
    "              metrics=[categorical_accuracy])\n",
    "\n",
    "CNN_With_3HiddenLayers.summary()\n",
    "# Early Stopping based on validation loss, minimum differece training loss and validation loss is 0.001, epoch 20\n",
    "monitor=EarlyStopping(monitor='val_loss',min_delta=1e-3,patience=20,verbose=1,restore_best_weights=True)\n",
    "history=CNN_With_3HiddenLayers.fit_generator(generator=train_generator,\n",
    "                    validation_data=validation_generator,\n",
    "                    callbacks=[monitor],\n",
    "                    epochs=250,\n",
    "                    verbose=0\n",
    "                    )\n",
    "\n",
    "# Evaluate the model on the original dataset\n",
    "evaluateModel(CNN_With_3HiddenLayers)\n",
    "# Display Training Validation Accuracy and Loss Graphs\n",
    "displayPlots(history)\n",
    "# Evaluation on Independent Data\n",
    "independentEvaluation(CNN_With_3HiddenLayers,history)\n"
   ]
  },
  {
   "cell_type": "markdown",
   "metadata": {},
   "source": [
    "### CNN Model with 3 Hidden Layers, Dropout, SGD Optimizer"
   ]
  },
  {
   "cell_type": "code",
   "execution_count": 30,
   "metadata": {},
   "outputs": [
    {
     "name": "stdout",
     "output_type": "stream",
     "text": [
      "Model: \"sequential_6\"\n",
      "_________________________________________________________________\n",
      "Layer (type)                 Output Shape              Param #   \n",
      "=================================================================\n",
      "lambda_7 (Lambda)            (None, 28, 28, 1)         0         \n",
      "_________________________________________________________________\n",
      "conv2d_13 (Conv2D)           (None, 26, 26, 32)        320       \n",
      "_________________________________________________________________\n",
      "activation_28 (Activation)   (None, 26, 26, 32)        0         \n",
      "_________________________________________________________________\n",
      "max_pooling2d_13 (MaxPooling (None, 13, 13, 32)        0         \n",
      "_________________________________________________________________\n",
      "conv2d_14 (Conv2D)           (None, 11, 11, 32)        9248      \n",
      "_________________________________________________________________\n",
      "activation_29 (Activation)   (None, 11, 11, 32)        0         \n",
      "_________________________________________________________________\n",
      "max_pooling2d_14 (MaxPooling (None, 5, 5, 32)          0         \n",
      "_________________________________________________________________\n",
      "conv2d_15 (Conv2D)           (None, 3, 3, 64)          18496     \n",
      "_________________________________________________________________\n",
      "activation_30 (Activation)   (None, 3, 3, 64)          0         \n",
      "_________________________________________________________________\n",
      "max_pooling2d_15 (MaxPooling (None, 1, 1, 64)          0         \n",
      "_________________________________________________________________\n",
      "flatten_7 (Flatten)          (None, 64)                0         \n",
      "_________________________________________________________________\n",
      "dense_15 (Dense)             (None, 64)                4160      \n",
      "_________________________________________________________________\n",
      "activation_31 (Activation)   (None, 64)                0         \n",
      "_________________________________________________________________\n",
      "dropout_4 (Dropout)          (None, 64)                0         \n",
      "_________________________________________________________________\n",
      "dense_16 (Dense)             (None, 5)                 325       \n",
      "_________________________________________________________________\n",
      "activation_32 (Activation)   (None, 5)                 0         \n",
      "=================================================================\n",
      "Total params: 32,549\n",
      "Trainable params: 32,549\n",
      "Non-trainable params: 0\n",
      "_________________________________________________________________\n",
      "Restoring model weights from the end of the best epoch.\n",
      "Epoch 00044: early stopping\n",
      "Confusion Matrix\n",
      "[[ 57   0   2   0   1]\n",
      " [  0  10   0   0   0]\n",
      " [  1   0 371   1   2]\n",
      " [  0   0   1 122   1]\n",
      " [  0   0   1   1 169]]\n",
      "Classification Report\n",
      "              precision    recall  f1-score   support\n",
      "\n",
      "     diamond       0.98      0.95      0.97        60\n",
      "         hex       1.00      1.00      1.00        10\n",
      "       round       0.99      0.99      0.99       375\n",
      "      square       0.98      0.98      0.98       124\n",
      "    triangle       0.98      0.99      0.98       171\n",
      "\n",
      "    accuracy                           0.99       740\n",
      "   macro avg       0.99      0.98      0.98       740\n",
      "weighted avg       0.99      0.99      0.99       740\n",
      "\n"
     ]
    },
    {
     "data": {
      "image/png": "[encoded data removed]",
      "text/plain": [
       "<Figure size 432x288 with 1 Axes>"
      ]
     },
     "metadata": {},
     "output_type": "display_data"
    },
    {
     "data": {
      "image/png": "[encoded data removed]",
      "text/plain": [
       "<Figure size 432x288 with 1 Axes>"
      ]
     },
     "metadata": {},
     "output_type": "display_data"
    },
    {
     "name": "stdout",
     "output_type": "stream",
     "text": [
      "Confusion Matrix\n",
      "[[ 6  0  5  0  0]\n",
      " [ 0  7  0  0  0]\n",
      " [ 6  3 82  7  3]\n",
      " [ 0  0  0 26 10]\n",
      " [ 0  0  1  0 22]]\n",
      "Classification Report\n",
      "              precision    recall  f1-score   support\n",
      "\n",
      "    diamonds       0.50      0.55      0.52        11\n",
      "         hex       0.70      1.00      0.82         7\n",
      "       round       0.93      0.81      0.87       101\n",
      "      square       0.79      0.72      0.75        36\n",
      "    triangle       0.63      0.96      0.76        23\n",
      "\n",
      "    accuracy                           0.80       178\n",
      "   macro avg       0.71      0.81      0.75       178\n",
      "weighted avg       0.83      0.80      0.81       178\n",
      "\n"
     ]
    }
   ],
   "source": [
    "CNN_With_3HiddenLayers_WithDropout = Sequential()\n",
    "\n",
    "# input\n",
    "CNN_With_3HiddenLayers_WithDropout.add(Input(shape=(28, 28, 3)))\n",
    "\n",
    "CNN_With_3HiddenLayers_WithDropout.add(Lambda(lambda x: tf.expand_dims(x[:,:,:,0], -1, name=None))) \n",
    "# this is a workaround. Dataloader automatically read one channel image as 3 channel \n",
    "#and we use Lambda layer to revert this back. Lambda layer can be used for operation \n",
    "#that does not involve trainianble weights\n",
    "\n",
    "# Conv Layer 1\n",
    "CNN_With_3HiddenLayers_WithDropout.add(Conv2D(32, (3, 3)))\n",
    "CNN_With_3HiddenLayers_WithDropout.add(Activation('relu'))\n",
    "CNN_With_3HiddenLayers_WithDropout.add(MaxPooling2D(pool_size=(2, 2)))\n",
    "\n",
    "# Conv Layer 2 \n",
    "CNN_With_3HiddenLayers_WithDropout.add(Conv2D(32, (3, 3)))\n",
    "CNN_With_3HiddenLayers_WithDropout.add(Activation('relu'))\n",
    "CNN_With_3HiddenLayers_WithDropout.add(MaxPooling2D(pool_size=(2, 2)))\n",
    "\n",
    "# Conv Layer 3\n",
    "CNN_With_3HiddenLayers_WithDropout.add(Conv2D(64, (3, 3)))\n",
    "CNN_With_3HiddenLayers_WithDropout.add(Activation('relu'))\n",
    "CNN_With_3HiddenLayers_WithDropout.add(MaxPooling2D(pool_size=(2, 2)))\n",
    "\n",
    "# MLP\n",
    "CNN_With_3HiddenLayers_WithDropout.add(Flatten())  # this converts our 3D feature maps to 1D feature vectors\n",
    "CNN_With_3HiddenLayers_WithDropout.add(Dense(64))\n",
    "CNN_With_3HiddenLayers_WithDropout.add(Activation('relu'))\n",
    "CNN_With_3HiddenLayers_WithDropout.add(Dropout(0.5))\n",
    "CNN_With_3HiddenLayers_WithDropout.add(Dense(5))\n",
    "CNN_With_3HiddenLayers_WithDropout.add(Activation('softmax'))\n",
    "\n",
    "sgd = optimizers.SGD(lr=0.01, decay=1e-6, momentum=0.9, nesterov=True)\n",
    "CNN_With_3HiddenLayers_WithDropout.compile(loss='categorical_crossentropy',\n",
    "              optimizer=sgd,\n",
    "              metrics=[categorical_accuracy])\n",
    "\n",
    "CNN_With_3HiddenLayers_WithDropout.summary()\n",
    "\n",
    "# Early Stopping based on validation loss, minimum differece training loss and validation loss is 0.001, epoch 20\n",
    "monitor=EarlyStopping(monitor='val_loss',min_delta=1e-3,patience=20,verbose=1,restore_best_weights=True)\n",
    "history=CNN_With_3HiddenLayers_WithDropout.fit_generator(generator=train_generator,\n",
    "                    validation_data=validation_generator,\n",
    "                    callbacks=[monitor],\n",
    "                    epochs=250,\n",
    "                    verbose=0\n",
    "                    )\n",
    "\n",
    "# Evaluate the model on the original dataset\n",
    "evaluateModel(CNN_With_3HiddenLayers_WithDropout)\n",
    "# Display Training Validation Accuracy and Loss Graphs\n",
    "displayPlots(history)\n",
    "# Evaluation on Independent Data\n",
    "independentEvaluation(CNN_With_3HiddenLayers_WithDropout,history)\n"
   ]
  },
  {
   "cell_type": "markdown",
   "metadata": {},
   "source": [
    "### CNN Model with 3 Hidden Layers, Dropout, ADAM Optimizer"
   ]
  },
  {
   "cell_type": "code",
   "execution_count": 31,
   "metadata": {},
   "outputs": [
    {
     "name": "stdout",
     "output_type": "stream",
     "text": [
      "Model: \"sequential_7\"\n",
      "_________________________________________________________________\n",
      "Layer (type)                 Output Shape              Param #   \n",
      "=================================================================\n",
      "lambda_8 (Lambda)            (None, 28, 28, 1)         0         \n",
      "_________________________________________________________________\n",
      "conv2d_16 (Conv2D)           (None, 26, 26, 32)        320       \n",
      "_________________________________________________________________\n",
      "activation_33 (Activation)   (None, 26, 26, 32)        0         \n",
      "_________________________________________________________________\n",
      "max_pooling2d_16 (MaxPooling (None, 13, 13, 32)        0         \n",
      "_________________________________________________________________\n",
      "conv2d_17 (Conv2D)           (None, 11, 11, 32)        9248      \n",
      "_________________________________________________________________\n",
      "activation_34 (Activation)   (None, 11, 11, 32)        0         \n",
      "_________________________________________________________________\n",
      "max_pooling2d_17 (MaxPooling (None, 5, 5, 32)          0         \n",
      "_________________________________________________________________\n",
      "conv2d_18 (Conv2D)           (None, 3, 3, 64)          18496     \n",
      "_________________________________________________________________\n",
      "activation_35 (Activation)   (None, 3, 3, 64)          0         \n",
      "_________________________________________________________________\n",
      "max_pooling2d_18 (MaxPooling (None, 1, 1, 64)          0         \n",
      "_________________________________________________________________\n",
      "flatten_8 (Flatten)          (None, 64)                0         \n",
      "_________________________________________________________________\n",
      "dense_17 (Dense)             (None, 64)                4160      \n",
      "_________________________________________________________________\n",
      "activation_36 (Activation)   (None, 64)                0         \n",
      "_________________________________________________________________\n",
      "dropout_5 (Dropout)          (None, 64)                0         \n",
      "_________________________________________________________________\n",
      "dense_18 (Dense)             (None, 5)                 325       \n",
      "_________________________________________________________________\n",
      "activation_37 (Activation)   (None, 5)                 0         \n",
      "=================================================================\n",
      "Total params: 32,549\n",
      "Trainable params: 32,549\n",
      "Non-trainable params: 0\n",
      "_________________________________________________________________\n",
      "Restoring model weights from the end of the best epoch.\n",
      "Epoch 00070: early stopping\n",
      "Confusion Matrix\n",
      "[[ 59   0   1   0   0]\n",
      " [  0  10   0   0   0]\n",
      " [  3   0 370   0   2]\n",
      " [  0   0   1 123   0]\n",
      " [  0   0   1   0 170]]\n",
      "Classification Report\n",
      "              precision    recall  f1-score   support\n",
      "\n",
      "     diamond       0.95      0.98      0.97        60\n",
      "         hex       1.00      1.00      1.00        10\n",
      "       round       0.99      0.99      0.99       375\n",
      "      square       1.00      0.99      1.00       124\n",
      "    triangle       0.99      0.99      0.99       171\n",
      "\n",
      "    accuracy                           0.99       740\n",
      "   macro avg       0.99      0.99      0.99       740\n",
      "weighted avg       0.99      0.99      0.99       740\n",
      "\n"
     ]
    },
    {
     "data": {
      "image/png": "[encoded data removed]",
      "text/plain": [
       "<Figure size 432x288 with 1 Axes>"
      ]
     },
     "metadata": {},
     "output_type": "display_data"
    },
    {
     "data": {
      "image/png": "[encoded data removed]",
      "text/plain": [
       "<Figure size 432x288 with 1 Axes>"
      ]
     },
     "metadata": {},
     "output_type": "display_data"
    },
    {
     "name": "stdout",
     "output_type": "stream",
     "text": [
      "Confusion Matrix\n",
      "[[ 9  0  2  0  0]\n",
      " [ 0  6  1  0  0]\n",
      " [13  1 78  5  4]\n",
      " [ 0  0  4 17 15]\n",
      " [ 1  0  1  0 21]]\n",
      "Classification Report\n",
      "              precision    recall  f1-score   support\n",
      "\n",
      "    diamonds       0.39      0.82      0.53        11\n",
      "         hex       0.86      0.86      0.86         7\n",
      "       round       0.91      0.77      0.83       101\n",
      "      square       0.77      0.47      0.59        36\n",
      "    triangle       0.53      0.91      0.67        23\n",
      "\n",
      "    accuracy                           0.74       178\n",
      "   macro avg       0.69      0.77      0.69       178\n",
      "weighted avg       0.80      0.74      0.74       178\n",
      "\n"
     ]
    }
   ],
   "source": [
    "CNN_With_3HiddenLayers_WithDropout_ADAM= Sequential()\n",
    "\n",
    "# input\n",
    "CNN_With_3HiddenLayers_WithDropout_ADAM.add(Input(shape=(28, 28, 3)))\n",
    "\n",
    "CNN_With_3HiddenLayers_WithDropout_ADAM.add(Lambda(lambda x: tf.expand_dims(x[:,:,:,0], -1, name=None))) \n",
    "# this is a workaround. Dataloader automatically read one channel image as 3 channel \n",
    "#and we use Lambda layer to revert this back. Lambda layer can be used for operation \n",
    "#that does not involve trainianble weights\n",
    "\n",
    "# Conv Layer 1\n",
    "CNN_With_3HiddenLayers_WithDropout_ADAM.add(Conv2D(32, (3, 3)))\n",
    "CNN_With_3HiddenLayers_WithDropout_ADAM.add(Activation('relu'))\n",
    "CNN_With_3HiddenLayers_WithDropout_ADAM.add(MaxPooling2D(pool_size=(2, 2)))\n",
    "\n",
    "# Conv Layer 2 \n",
    "CNN_With_3HiddenLayers_WithDropout_ADAM.add(Conv2D(32, (3, 3)))\n",
    "CNN_With_3HiddenLayers_WithDropout_ADAM.add(Activation('relu'))\n",
    "CNN_With_3HiddenLayers_WithDropout_ADAM.add(MaxPooling2D(pool_size=(2, 2)))\n",
    "\n",
    "# Conv Layer 3 \n",
    "CNN_With_3HiddenLayers_WithDropout_ADAM.add(Conv2D(64, (3, 3)))\n",
    "CNN_With_3HiddenLayers_WithDropout_ADAM.add(Activation('relu'))\n",
    "CNN_With_3HiddenLayers_WithDropout_ADAM.add(MaxPooling2D(pool_size=(2, 2)))\n",
    "\n",
    "\n",
    "# MLP\n",
    "CNN_With_3HiddenLayers_WithDropout_ADAM.add(Flatten())  # this converts our 3D feature maps to 1D feature vectors\n",
    "CNN_With_3HiddenLayers_WithDropout_ADAM.add(Dense(64))\n",
    "CNN_With_3HiddenLayers_WithDropout_ADAM.add(Activation('relu'))\n",
    "CNN_With_3HiddenLayers_WithDropout_ADAM.add(Dropout(0.5))\n",
    "CNN_With_3HiddenLayers_WithDropout_ADAM.add(Dense(5))\n",
    "CNN_With_3HiddenLayers_WithDropout_ADAM.add(Activation('softmax'))\n",
    "\n",
    "CNN_With_3HiddenLayers_WithDropout_ADAM.compile(loss='categorical_crossentropy',\n",
    "              optimizer='adam',\n",
    "              metrics=[categorical_accuracy])\n",
    "\n",
    "CNN_With_3HiddenLayers_WithDropout_ADAM.summary()\n",
    "\n",
    "# Early Stopping based on validation loss, minimum differece training loss and validation loss is 0.001, epoch 20\n",
    "monitor=EarlyStopping(monitor='val_loss',min_delta=1e-3,patience=20,verbose=1,restore_best_weights=True)\n",
    "history=CNN_With_3HiddenLayers_WithDropout_ADAM.fit_generator(generator=train_generator,\n",
    "                    validation_data=validation_generator,\n",
    "                    callbacks=[monitor],\n",
    "                    epochs=250,\n",
    "                    verbose=0\n",
    "                    )\n",
    "\n",
    "# Evaluate the model on the original dataset\n",
    "evaluateModel(CNN_With_3HiddenLayers_WithDropout_ADAM)\n",
    "# Display Training Validation Accuracy and Loss Graphs\n",
    "displayPlots(history)\n",
    "# Evalution on Independent Data\n",
    "independentEvaluation(CNN_With_3HiddenLayers_WithDropout_ADAM,history)"
   ]
  },
  {
   "cell_type": "markdown",
   "metadata": {},
   "source": [
    "### CNN Model with 3 Hidden Layers, Dropout, ADAM Optimizer, L1 Regularizations"
   ]
  },
  {
   "cell_type": "code",
   "execution_count": 32,
   "metadata": {},
   "outputs": [
    {
     "name": "stdout",
     "output_type": "stream",
     "text": [
      "Model: \"sequential_8\"\n",
      "_________________________________________________________________\n",
      "Layer (type)                 Output Shape              Param #   \n",
      "=================================================================\n",
      "lambda_9 (Lambda)            (None, 28, 28, 1)         0         \n",
      "_________________________________________________________________\n",
      "conv2d_19 (Conv2D)           (None, 26, 26, 32)        320       \n",
      "_________________________________________________________________\n",
      "activation_38 (Activation)   (None, 26, 26, 32)        0         \n",
      "_________________________________________________________________\n",
      "max_pooling2d_19 (MaxPooling (None, 13, 13, 32)        0         \n",
      "_________________________________________________________________\n",
      "conv2d_20 (Conv2D)           (None, 11, 11, 32)        9248      \n",
      "_________________________________________________________________\n",
      "activation_39 (Activation)   (None, 11, 11, 32)        0         \n",
      "_________________________________________________________________\n",
      "max_pooling2d_20 (MaxPooling (None, 5, 5, 32)          0         \n",
      "_________________________________________________________________\n",
      "conv2d_21 (Conv2D)           (None, 3, 3, 64)          18496     \n",
      "_________________________________________________________________\n",
      "activation_40 (Activation)   (None, 3, 3, 64)          0         \n",
      "_________________________________________________________________\n",
      "max_pooling2d_21 (MaxPooling (None, 1, 1, 64)          0         \n",
      "_________________________________________________________________\n",
      "flatten_9 (Flatten)          (None, 64)                0         \n",
      "_________________________________________________________________\n",
      "dense_19 (Dense)             (None, 64)                4160      \n",
      "_________________________________________________________________\n",
      "activation_41 (Activation)   (None, 64)                0         \n",
      "_________________________________________________________________\n",
      "dropout_6 (Dropout)          (None, 64)                0         \n",
      "_________________________________________________________________\n",
      "dense_20 (Dense)             (None, 5)                 325       \n",
      "_________________________________________________________________\n",
      "activation_42 (Activation)   (None, 5)                 0         \n",
      "=================================================================\n",
      "Total params: 32,549\n",
      "Trainable params: 32,549\n",
      "Non-trainable params: 0\n",
      "_________________________________________________________________\n",
      "Restoring model weights from the end of the best epoch.\n",
      "Epoch 00053: early stopping\n",
      "Confusion Matrix\n",
      "[[ 59   0   1   0   0]\n",
      " [  0  10   0   0   0]\n",
      " [  1   0 373   0   1]\n",
      " [  0   0   1 123   0]\n",
      " [  1   0   6   2 162]]\n",
      "Classification Report\n",
      "              precision    recall  f1-score   support\n",
      "\n",
      "     diamond       0.97      0.98      0.98        60\n",
      "         hex       1.00      1.00      1.00        10\n",
      "       round       0.98      0.99      0.99       375\n",
      "      square       0.98      0.99      0.99       124\n",
      "    triangle       0.99      0.95      0.97       171\n",
      "\n",
      "    accuracy                           0.98       740\n",
      "   macro avg       0.98      0.98      0.98       740\n",
      "weighted avg       0.98      0.98      0.98       740\n",
      "\n"
     ]
    },
    {
     "data": {
      "image/png": "[encoded data removed]",
      "text/plain": [
       "<Figure size 432x288 with 1 Axes>"
      ]
     },
     "metadata": {},
     "output_type": "display_data"
    },
    {
     "data": {
      "image/png": "[encoded data removed]",
      "text/plain": [
       "<Figure size 432x288 with 1 Axes>"
      ]
     },
     "metadata": {},
     "output_type": "display_data"
    },
    {
     "name": "stdout",
     "output_type": "stream",
     "text": [
      "Confusion Matrix\n",
      "[[ 6  0  5  0  0]\n",
      " [ 0  7  0  0  0]\n",
      " [10  3 84  2  2]\n",
      " [ 0  0  7 18 11]\n",
      " [ 0  1  1  0 21]]\n",
      "Classification Report\n",
      "              precision    recall  f1-score   support\n",
      "\n",
      "    diamonds       0.38      0.55      0.44        11\n",
      "         hex       0.64      1.00      0.78         7\n",
      "       round       0.87      0.83      0.85       101\n",
      "      square       0.90      0.50      0.64        36\n",
      "    triangle       0.62      0.91      0.74        23\n",
      "\n",
      "    accuracy                           0.76       178\n",
      "   macro avg       0.68      0.76      0.69       178\n",
      "weighted avg       0.80      0.76      0.76       178\n",
      "\n"
     ]
    }
   ],
   "source": [
    "CNN_With_3HiddenLayers_WithDropout_ADAM_L1Reg = Sequential()\n",
    "\n",
    "# input\n",
    "CNN_With_3HiddenLayers_WithDropout_ADAM_L1Reg.add(Input(shape=(28, 28, 3)))\n",
    "\n",
    "CNN_With_3HiddenLayers_WithDropout_ADAM_L1Reg.add(Lambda(lambda x: tf.expand_dims(x[:,:,:,0], -1, name=None))) \n",
    "# this is a workaround. Dataloader automatically read one channel image as 3 channel \n",
    "#and we use Lambda layer to revert this back. Lambda layer can be used for operation \n",
    "#that does not involve trainianble weights\n",
    "\n",
    "# Conv Layer 1\n",
    "CNN_With_3HiddenLayers_WithDropout_ADAM_L1Reg.add(Conv2D(32, (3, 3),kernel_regularizer=regularizers.l1(0.001)))\n",
    "CNN_With_3HiddenLayers_WithDropout_ADAM_L1Reg.add(Activation('relu'))\n",
    "CNN_With_3HiddenLayers_WithDropout_ADAM_L1Reg.add(MaxPooling2D(pool_size=(2, 2)))\n",
    "\n",
    "# Conv Layer 2 \n",
    "CNN_With_3HiddenLayers_WithDropout_ADAM_L1Reg.add(Conv2D(32, (3, 3)))\n",
    "CNN_With_3HiddenLayers_WithDropout_ADAM_L1Reg.add(Activation('relu'))\n",
    "CNN_With_3HiddenLayers_WithDropout_ADAM_L1Reg.add(MaxPooling2D(pool_size=(2, 2)))\n",
    "\n",
    "# Conv Layer 3\n",
    "CNN_With_3HiddenLayers_WithDropout_ADAM_L1Reg.add(Conv2D(64, (3, 3)))\n",
    "CNN_With_3HiddenLayers_WithDropout_ADAM_L1Reg.add(Activation('relu'))\n",
    "CNN_With_3HiddenLayers_WithDropout_ADAM_L1Reg.add(MaxPooling2D(pool_size=(2, 2)))\n",
    "\n",
    "# MLP\n",
    "CNN_With_3HiddenLayers_WithDropout_ADAM_L1Reg.add(Flatten())  # this converts our 3D feature maps to 1D feature vectors\n",
    "CNN_With_3HiddenLayers_WithDropout_ADAM_L1Reg.add(Dense(64))\n",
    "CNN_With_3HiddenLayers_WithDropout_ADAM_L1Reg.add(Activation('relu'))\n",
    "CNN_With_3HiddenLayers_WithDropout_ADAM_L1Reg.add(Dropout(0.5))\n",
    "CNN_With_3HiddenLayers_WithDropout_ADAM_L1Reg.add(Dense(5))\n",
    "CNN_With_3HiddenLayers_WithDropout_ADAM_L1Reg.add(Activation('softmax'))\n",
    "\n",
    "CNN_With_3HiddenLayers_WithDropout_ADAM_L1Reg.compile(loss='categorical_crossentropy',\n",
    "              optimizer='adam',\n",
    "              metrics=[categorical_accuracy])\n",
    "\n",
    "CNN_With_3HiddenLayers_WithDropout_ADAM_L1Reg.summary()\n",
    "\n",
    "# Early Stopping based on validation loss, minimum differece training loss and validation loss is 0.001, epoch 20\n",
    "monitor=EarlyStopping(monitor='val_loss',min_delta=1e-3,patience=20,verbose=1,restore_best_weights=True)\n",
    "history=CNN_With_3HiddenLayers_WithDropout_ADAM_L1Reg.fit_generator(generator=train_generator,\n",
    "                    validation_data=validation_generator,\n",
    "                    callbacks=[monitor],\n",
    "                    epochs=250,\n",
    "                    verbose=0\n",
    "                    )\n",
    "\n",
    "\n",
    "# Evaluate the model on the original dataset\n",
    "evaluateModel(CNN_With_3HiddenLayers_WithDropout_ADAM_L1Reg)\n",
    "# Display Training Validation Accuracy and Loss Graphs\n",
    "displayPlots(history)\n",
    "# Evalution on Independent Data\n",
    "independentEvaluation(CNN_With_3HiddenLayers_WithDropout_ADAM_L1Reg,history)"
   ]
  },
  {
   "cell_type": "markdown",
   "metadata": {},
   "source": [
    "### CNN Model with 3 Hidden Layers, Dropout, ADAM Optimizer, L2 Regularizations"
   ]
  },
  {
   "cell_type": "code",
   "execution_count": 33,
   "metadata": {},
   "outputs": [
    {
     "name": "stdout",
     "output_type": "stream",
     "text": [
      "Model: \"sequential_9\"\n",
      "_________________________________________________________________\n",
      "Layer (type)                 Output Shape              Param #   \n",
      "=================================================================\n",
      "lambda_10 (Lambda)           (None, 28, 28, 1)         0         \n",
      "_________________________________________________________________\n",
      "conv2d_22 (Conv2D)           (None, 26, 26, 32)        320       \n",
      "_________________________________________________________________\n",
      "activation_43 (Activation)   (None, 26, 26, 32)        0         \n",
      "_________________________________________________________________\n",
      "max_pooling2d_22 (MaxPooling (None, 13, 13, 32)        0         \n",
      "_________________________________________________________________\n",
      "conv2d_23 (Conv2D)           (None, 11, 11, 32)        9248      \n",
      "_________________________________________________________________\n",
      "activation_44 (Activation)   (None, 11, 11, 32)        0         \n",
      "_________________________________________________________________\n",
      "max_pooling2d_23 (MaxPooling (None, 5, 5, 32)          0         \n",
      "_________________________________________________________________\n",
      "conv2d_24 (Conv2D)           (None, 3, 3, 64)          18496     \n",
      "_________________________________________________________________\n",
      "activation_45 (Activation)   (None, 3, 3, 64)          0         \n",
      "_________________________________________________________________\n",
      "max_pooling2d_24 (MaxPooling (None, 1, 1, 64)          0         \n",
      "_________________________________________________________________\n",
      "flatten_10 (Flatten)         (None, 64)                0         \n",
      "_________________________________________________________________\n",
      "dense_21 (Dense)             (None, 64)                4160      \n",
      "_________________________________________________________________\n",
      "activation_46 (Activation)   (None, 64)                0         \n",
      "_________________________________________________________________\n",
      "dropout_7 (Dropout)          (None, 64)                0         \n",
      "_________________________________________________________________\n",
      "dense_22 (Dense)             (None, 5)                 325       \n",
      "_________________________________________________________________\n",
      "activation_47 (Activation)   (None, 5)                 0         \n",
      "=================================================================\n",
      "Total params: 32,549\n",
      "Trainable params: 32,549\n",
      "Non-trainable params: 0\n",
      "_________________________________________________________________\n",
      "Restoring model weights from the end of the best epoch.\n",
      "Epoch 00055: early stopping\n",
      "Confusion Matrix\n",
      "[[ 59   0   1   0   0]\n",
      " [  0  10   0   0   0]\n",
      " [  1   0 371   2   1]\n",
      " [  0   0   1 123   0]\n",
      " [  0   0   2   5 164]]\n",
      "Classification Report\n",
      "              precision    recall  f1-score   support\n",
      "\n",
      "     diamond       0.98      0.98      0.98        60\n",
      "         hex       1.00      1.00      1.00        10\n",
      "       round       0.99      0.99      0.99       375\n",
      "      square       0.95      0.99      0.97       124\n",
      "    triangle       0.99      0.96      0.98       171\n",
      "\n",
      "    accuracy                           0.98       740\n",
      "   macro avg       0.98      0.98      0.98       740\n",
      "weighted avg       0.98      0.98      0.98       740\n",
      "\n"
     ]
    },
    {
     "data": {
      "image/png": "[encoded data removed]",
      "text/plain": [
       "<Figure size 432x288 with 1 Axes>"
      ]
     },
     "metadata": {},
     "output_type": "display_data"
    },
    {
     "data": {
      "image/png": "[encoded data removed]",
      "text/plain": [
       "<Figure size 432x288 with 1 Axes>"
      ]
     },
     "metadata": {},
     "output_type": "display_data"
    },
    {
     "name": "stdout",
     "output_type": "stream",
     "text": [
      "Confusion Matrix\n",
      "[[ 7  0  4  0  0]\n",
      " [ 0  6  0  0  1]\n",
      " [11  3 76  8  3]\n",
      " [ 0  1  5 20 10]\n",
      " [ 0  0  1  1 21]]\n",
      "Classification Report\n",
      "              precision    recall  f1-score   support\n",
      "\n",
      "    diamonds       0.39      0.64      0.48        11\n",
      "         hex       0.60      0.86      0.71         7\n",
      "       round       0.88      0.75      0.81       101\n",
      "      square       0.69      0.56      0.62        36\n",
      "    triangle       0.60      0.91      0.72        23\n",
      "\n",
      "    accuracy                           0.73       178\n",
      "   macro avg       0.63      0.74      0.67       178\n",
      "weighted avg       0.77      0.73      0.74       178\n",
      "\n"
     ]
    }
   ],
   "source": [
    "CNN_With_3HiddenLayers_WithDropout_ADAM_L2Reg = Sequential()\n",
    "\n",
    "# input\n",
    "CNN_With_3HiddenLayers_WithDropout_ADAM_L2Reg.add(Input(shape=(28, 28, 3)))\n",
    "\n",
    "CNN_With_3HiddenLayers_WithDropout_ADAM_L2Reg.add(Lambda(lambda x: tf.expand_dims(x[:,:,:,0], -1, name=None))) \n",
    "# this is a workaround. Dataloader automatically read one channel image as 3 channel \n",
    "#and we use Lambda layer to revert this back. Lambda layer can be used for operation \n",
    "#that does not involve trainianble weights\n",
    "\n",
    "# Conv Layer 1\n",
    "CNN_With_3HiddenLayers_WithDropout_ADAM_L2Reg.add(Conv2D(32, (3, 3),kernel_regularizer=regularizers.l2(0.001)))\n",
    "CNN_With_3HiddenLayers_WithDropout_ADAM_L2Reg.add(Activation('relu'))\n",
    "CNN_With_3HiddenLayers_WithDropout_ADAM_L2Reg.add(MaxPooling2D(pool_size=(2, 2)))\n",
    "\n",
    "# Conv Layer 2 \n",
    "CNN_With_3HiddenLayers_WithDropout_ADAM_L2Reg.add(Conv2D(32, (3, 3)))\n",
    "CNN_With_3HiddenLayers_WithDropout_ADAM_L2Reg.add(Activation('relu'))\n",
    "CNN_With_3HiddenLayers_WithDropout_ADAM_L2Reg.add(MaxPooling2D(pool_size=(2, 2)))\n",
    "\n",
    "# Conv Layer 3\n",
    "CNN_With_3HiddenLayers_WithDropout_ADAM_L2Reg.add(Conv2D(64, (3, 3)))\n",
    "CNN_With_3HiddenLayers_WithDropout_ADAM_L2Reg.add(Activation('relu'))\n",
    "CNN_With_3HiddenLayers_WithDropout_ADAM_L2Reg.add(MaxPooling2D(pool_size=(2, 2)))\n",
    "\n",
    "# MLP\n",
    "CNN_With_3HiddenLayers_WithDropout_ADAM_L2Reg.add(Flatten())  # this converts our 3D feature maps to 1D feature vectors\n",
    "CNN_With_3HiddenLayers_WithDropout_ADAM_L2Reg.add(Dense(64))\n",
    "CNN_With_3HiddenLayers_WithDropout_ADAM_L2Reg.add(Activation('relu'))\n",
    "CNN_With_3HiddenLayers_WithDropout_ADAM_L2Reg.add(Dropout(0.5))\n",
    "CNN_With_3HiddenLayers_WithDropout_ADAM_L2Reg.add(Dense(5))\n",
    "CNN_With_3HiddenLayers_WithDropout_ADAM_L2Reg.add(Activation('softmax'))\n",
    "\n",
    "CNN_With_3HiddenLayers_WithDropout_ADAM_L2Reg.compile(loss='categorical_crossentropy',\n",
    "              optimizer='adam',\n",
    "              metrics=[categorical_accuracy])\n",
    "\n",
    "CNN_With_3HiddenLayers_WithDropout_ADAM_L2Reg.summary()\n",
    "\n",
    "# Early Stopping based on validation loss, minimum differece training loss and validation loss is 0.001, epoch 20\n",
    "monitor=EarlyStopping(monitor='val_loss',min_delta=1e-3,patience=20,verbose=1,restore_best_weights=True)\n",
    "history=CNN_With_3HiddenLayers_WithDropout_ADAM_L2Reg.fit_generator(generator=train_generator,\n",
    "                    validation_data=validation_generator,\n",
    "                    callbacks=[monitor],\n",
    "                    epochs=250,\n",
    "                    verbose=0\n",
    "                    )\n",
    "\n",
    "\n",
    "# Evaluate the model on the original dataset\n",
    "evaluateModel(CNN_With_3HiddenLayers_WithDropout_ADAM_L2Reg)\n",
    "# Display Training Validation Accuracy and Loss Graphs\n",
    "displayPlots(history)\n",
    "# Evaluation on Independent Data\n",
    "independentEvaluation(CNN_With_3HiddenLayers_WithDropout_ADAM_L2Reg,history)"
   ]
  }
 ],
 "metadata": {
  "kernelspec": {
   "display_name": "conda_tensorflow_p36",
   "language": "python",
   "name": "conda_tensorflow_p36"
  },
  "language_info": {
   "codemirror_mode": {
    "name": "ipython",
    "version": 3
   },
   "file_extension": ".py",
   "mimetype": "text/x-python",
   "name": "python",
   "nbconvert_exporter": "python",
   "pygments_lexer": "ipython3",
   "version": "3.6.6"
  }
 },
 "nbformat": 4,
 "nbformat_minor": 4
}
